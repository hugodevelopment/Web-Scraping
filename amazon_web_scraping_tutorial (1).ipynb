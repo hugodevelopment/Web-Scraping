{
  "cells": [
    {
      "cell_type": "code",
      "execution_count": 4,
      "id": "1ba62ef6",
      "metadata": {
        "id": "1ba62ef6"
      },
      "outputs": [],
      "source": [
        "from bs4 import BeautifulSoup\n",
        "import requests\n",
        "import pandas as pd"
      ]
    },
    {
      "cell_type": "code",
      "execution_count": null,
      "id": "84bc42a4",
      "metadata": {
        "id": "84bc42a4"
      },
      "outputs": [],
      "source": [
        "# Testando com o link do site do desafio\n",
        "URL = \"https://www.marchio.com/iluminacao-e-eletrica\""
      ]
    },
    {
      "cell_type": "code",
      "source": [
        "# Link da amazon do tutorial\n",
        "URL2 = \"https://www.amazon.com/s?k=playstation+5&crid=3BV45YDFQQE2G&sprefix=playstation+4%2Caps%2C269&ref=nb_sb_noss_2\""
      ],
      "metadata": {
        "id": "IkriNisSOliv"
      },
      "id": "IkriNisSOliv",
      "execution_count": null,
      "outputs": []
    },
    {
      "cell_type": "code",
      "execution_count": 5,
      "id": "41d06b5a",
      "metadata": {
        "id": "41d06b5a"
      },
      "outputs": [],
      "source": [
        "# Headers for request\n",
        "HEADERS = ({'User-Agent': 'Mozilla/5.0 (Windows NT 10.0; Win64; x64) AppleWebKit/537.36 (KHTML, like Gecko) Chrome/120.0.0.0 Safari/537.36', 'Accept-Language': 'pt-BR, pt;q=0.9'})\n"
      ]
    },
    {
      "cell_type": "code",
      "source": [
        "# agent to us\n",
        "HEADERS2 = ({'User-Agent':'', 'Accept-Language': 'en-US, en;q=0.5'})"
      ],
      "metadata": {
        "id": "yv1KB0F9SVdt"
      },
      "id": "yv1KB0F9SVdt",
      "execution_count": null,
      "outputs": []
    },
    {
      "cell_type": "code",
      "execution_count": null,
      "id": "942f42fc",
      "metadata": {
        "id": "942f42fc"
      },
      "outputs": [],
      "source": [
        "# HTTP Request\n",
        "webpage = requests.get(URL, headers=HEADERS)"
      ]
    },
    {
      "cell_type": "code",
      "source": [
        "# para testar o link\n",
        "webpage2 = requests.get(URL2, headers=HEADERS2)"
      ],
      "metadata": {
        "id": "oav7JyteOf-i"
      },
      "id": "oav7JyteOf-i",
      "execution_count": null,
      "outputs": []
    },
    {
      "cell_type": "code",
      "source": [
        "# Soup Object containiang all data do tutorial\n",
        "soup2 = BeautifulSoup(webpage2.content, \"html.parser\")"
      ],
      "metadata": {
        "id": "TptPt8QMoIuK"
      },
      "id": "TptPt8QMoIuK",
      "execution_count": null,
      "outputs": []
    },
    {
      "cell_type": "code",
      "source": [
        "# # com o link original pega tranquilo, nesse caso o da amazon\n",
        "links2 = soup2.find_all(\"a\", attrs={'class':'a-link-normal s-underline-text s-underline-link-text s-link-style a-text-normal'})\n",
        "links2"
      ],
      "metadata": {
        "id": "t9VBPyfXoNAj"
      },
      "id": "t9VBPyfXoNAj",
      "execution_count": null,
      "outputs": []
    },
    {
      "cell_type": "code",
      "source": [
        "# Pegando o 1º link de referencia\n",
        "links2 = links2[1].get('href')\n",
        "links2"
      ],
      "metadata": {
        "id": "KrQWXj3doRtM"
      },
      "id": "KrQWXj3doRtM",
      "execution_count": null,
      "outputs": []
    },
    {
      "cell_type": "code",
      "source": [
        "# Concatenando o endereço da amazon com o endereço dos links da pagina\n",
        "product_list = \"https://amazon.com\" + links2"
      ],
      "metadata": {
        "id": "DW1X4QgVoT_l"
      },
      "id": "DW1X4QgVoT_l",
      "execution_count": null,
      "outputs": []
    },
    {
      "cell_type": "code",
      "execution_count": null,
      "id": "70d1d923",
      "metadata": {
        "colab": {
          "base_uri": "https://localhost:8080/"
        },
        "id": "70d1d923",
        "outputId": "e0b96219-7be4-4fb3-f899-86b2b642405b"
      },
      "outputs": [
        {
          "output_type": "execute_result",
          "data": {
            "text/plain": [
              "bytes"
            ]
          },
          "metadata": {},
          "execution_count": 159
        }
      ],
      "source": [
        "type(webpage.content)"
      ]
    },
    {
      "cell_type": "code",
      "execution_count": null,
      "id": "d792ee49",
      "metadata": {
        "id": "d792ee49"
      },
      "outputs": [],
      "source": [
        "# Soup Object containiang all data\n",
        "soup = BeautifulSoup(webpage.content, \"html.parser\")"
      ]
    },
    {
      "cell_type": "code",
      "source": [
        "# Soup Object containiang all data\n",
        "new_soup = BeautifulSoup(new_webpage.content, \"html.parser\")"
      ],
      "metadata": {
        "id": "k15wePg2obzn"
      },
      "id": "k15wePg2obzn",
      "execution_count": null,
      "outputs": []
    },
    {
      "cell_type": "code",
      "source": [
        "new_soup.find(\"span\", attrs={\"id\":'productTitle'}).text.strip()"
      ],
      "metadata": {
        "id": "cNsldgm-olNW"
      },
      "id": "cNsldgm-olNW",
      "execution_count": null,
      "outputs": []
    },
    {
      "cell_type": "code",
      "source": [
        "# entendi como pegar tbm\n",
        "new_soup.find(\"span\", attrs={\"class\":'a-price aok-align-center'}).find(\"span\", attrs={\"class\": \"a-offscreen\"}).text"
      ],
      "metadata": {
        "id": "lbzMuHVQoqm0"
      },
      "id": "lbzMuHVQoqm0",
      "execution_count": null,
      "outputs": []
    },
    {
      "cell_type": "code",
      "source": [
        "# entendi como pegar\n",
        "new_soup.find(\"span\", attrs={\"class\":'a-icon-alt'}).text"
      ],
      "metadata": {
        "id": "ohcaGwh0otXi"
      },
      "id": "ohcaGwh0otXi",
      "execution_count": null,
      "outputs": []
    },
    {
      "cell_type": "code",
      "source": [
        "new_soup.find(\"div\", attrs={\"id\":'availability'}).text"
      ],
      "metadata": {
        "id": "cj6L2WLrovtO"
      },
      "id": "cj6L2WLrovtO",
      "execution_count": null,
      "outputs": []
    },
    {
      "cell_type": "code",
      "source": [
        "new_soup.find(\"span\", attrs={\"class\":'a-size-large a-color-price savingPriceOverride aok-align-center reinventPriceSavingsPercentageMargin savingsPercentage'}).text"
      ],
      "metadata": {
        "id": "yaPtTzC-oy2Q"
      },
      "id": "yaPtTzC-oy2Q",
      "execution_count": null,
      "outputs": []
    },
    {
      "cell_type": "code",
      "source": [
        "new_soup.find(\"ul\", attrs={\"class\":'a-unordered-list a-vertical a-spacing-mini'}).text.strip()"
      ],
      "metadata": {
        "id": "sLHidd3Uo4t_"
      },
      "id": "sLHidd3Uo4t_",
      "execution_count": null,
      "outputs": []
    },
    {
      "cell_type": "markdown",
      "source": [
        "# Testando com o link dos desafio"
      ],
      "metadata": {
        "id": "wCbmbrSlpEBo"
      },
      "id": "wCbmbrSlpEBo"
    },
    {
      "cell_type": "code",
      "source": [
        "# essa é a classe mais importante por conter o link do que queremos na pagina dos produtos, nesse caso é o link dos desafios\n",
        "links1 = soup.find_all(\"a\", attrs={'class':'product-info'})"
      ],
      "metadata": {
        "id": "06fX_mrqib2O"
      },
      "id": "06fX_mrqib2O",
      "execution_count": null,
      "outputs": []
    },
    {
      "cell_type": "code",
      "source": [
        "# funcionou pegar o link de cada produto\n",
        "link_produtos = links1[2].get(\"href\")\n",
        "link_produtos"
      ],
      "metadata": {
        "id": "pX2ABZuLn_uS"
      },
      "id": "pX2ABZuLn_uS",
      "execution_count": null,
      "outputs": []
    },
    {
      "cell_type": "code",
      "execution_count": null,
      "id": "47af27fb",
      "metadata": {
        "id": "47af27fb"
      },
      "outputs": [],
      "source": [
        "# Nova url com o link da amazon + o link do produto\n",
        "new_webpage = requests.get(link_produtos, headers=HEADERS)\n",
        "new_webpage"
      ]
    },
    {
      "cell_type": "code",
      "source": [
        "# Soup Object containiang all data\n",
        "produtos_soup = BeautifulSoup(new_webpage.content, \"html.parser\")"
      ],
      "metadata": {
        "id": "I_V8F5Ixn15t"
      },
      "id": "I_V8F5Ixn15t",
      "execution_count": null,
      "outputs": []
    },
    {
      "cell_type": "markdown",
      "source": [
        "**Agora testarei pegar as infos para o desafio**\n",
        "\n",
        "* Funcionou pegar o nome do diferentes produtos\n"
      ],
      "metadata": {
        "id": "cCubhnMgk2dt"
      },
      "id": "cCubhnMgk2dt"
    },
    {
      "cell_type": "code",
      "source": [
        "# entendi como pegar, funcinou para o 1º produto\n",
        "produtos_soup.find(\"h1\", attrs={\"class\":'product-name'}).text.strip()"
      ],
      "metadata": {
        "colab": {
          "base_uri": "https://localhost:8080/",
          "height": 36
        },
        "id": "593NE838k1NC",
        "outputId": "f9b7918b-fcf9-4480-8ec8-a7696154a645"
      },
      "id": "593NE838k1NC",
      "execution_count": null,
      "outputs": [
        {
          "output_type": "execute_result",
          "data": {
            "text/plain": [
              "'ADAPTADOR CONVERSOR SISTEMAS 2P 10A BRANCO'"
            ],
            "application/vnd.google.colaboratory.intrinsic+json": {
              "type": "string"
            }
          },
          "metadata": {},
          "execution_count": 134
        }
      ]
    },
    {
      "cell_type": "code",
      "source": [
        "produtos_soup.find(\"h1\", class_='product-name').text.strip()"
      ],
      "metadata": {
        "colab": {
          "base_uri": "https://localhost:8080/",
          "height": 36
        },
        "id": "QZhfT2xfzxw6",
        "outputId": "684162e0-08cf-40d2-baab-d43678717a48"
      },
      "id": "QZhfT2xfzxw6",
      "execution_count": null,
      "outputs": [
        {
          "output_type": "execute_result",
          "data": {
            "text/plain": [
              "'ADAPTADOR CONVERSOR SISTEMAS 2P 10A BRANCO'"
            ],
            "application/vnd.google.colaboratory.intrinsic+json": {
              "type": "string"
            }
          },
          "metadata": {},
          "execution_count": 150
        }
      ]
    },
    {
      "cell_type": "code",
      "source": [
        "# codigo do produto\n",
        "codigo_produto = produtos_soup.find(\"div\", attrs={\"class\":\"product-main-info\"}).text.strip().split()\n",
        "codigo_produto"
      ],
      "metadata": {
        "colab": {
          "base_uri": "https://localhost:8080/"
        },
        "id": "T_9T8q6NlDsh",
        "outputId": "fa69558d-7cdf-450e-e00b-91ab16d24142"
      },
      "id": "T_9T8q6NlDsh",
      "execution_count": null,
      "outputs": [
        {
          "output_type": "execute_result",
          "data": {
            "text/plain": [
              "['Ref:', '100650', 'Marca:', 'ENERBRAS', 'Modelo:', '073-EB']"
            ]
          },
          "metadata": {},
          "execution_count": 152
        }
      ]
    },
    {
      "cell_type": "code",
      "source": [
        "# preco_coleta\n",
        "preço_coleta = produtos_soup.find(\"span\", attrs={\"data-app\":\"product.price\"}).text.strip()\n",
        "preço_coleta"
      ],
      "metadata": {
        "colab": {
          "base_uri": "https://localhost:8080/",
          "height": 36
        },
        "id": "PhqzvpFNlpL8",
        "outputId": "ce1b97bb-9ebc-4917-edc6-f3c1ee84195b"
      },
      "id": "PhqzvpFNlpL8",
      "execution_count": null,
      "outputs": [
        {
          "output_type": "execute_result",
          "data": {
            "text/plain": [
              "'8,30'"
            ],
            "application/vnd.google.colaboratory.intrinsic+json": {
              "type": "string"
            }
          },
          "metadata": {},
          "execution_count": 131
        }
      ]
    },
    {
      "cell_type": "code",
      "source": [
        "# url da coleta\n",
        "link_produtos = links1[2].get(\"href\")\n",
        "link_produtos"
      ],
      "metadata": {
        "colab": {
          "base_uri": "https://localhost:8080/",
          "height": 36
        },
        "id": "DttvjKccmg1K",
        "outputId": "8d14c497-a4c5-4a28-f528-8ba21b56065e"
      },
      "id": "DttvjKccmg1K",
      "execution_count": null,
      "outputs": [
        {
          "output_type": "execute_result",
          "data": {
            "text/plain": [
              "'https://www.marchio.com/adaptador-conversor-sistemas-2p-10a-branco'"
            ],
            "application/vnd.google.colaboratory.intrinsic+json": {
              "type": "string"
            }
          },
          "metadata": {},
          "execution_count": 115
        }
      ]
    },
    {
      "cell_type": "code",
      "source": [
        "import datetime\n",
        "data_coleta = datetime.datetime.now()\n",
        "data_formatada = data_coleta.strftime(\"%d/%m/%Y, %H:%M:%S\")\n",
        "print(\"Hora da raspagem\",data_formatada)\n"
      ],
      "metadata": {
        "colab": {
          "base_uri": "https://localhost:8080/"
        },
        "id": "URx5jovimzuB",
        "outputId": "2a61f4dc-1dbe-4a49-f615-d7074dc049ab"
      },
      "id": "URx5jovimzuB",
      "execution_count": null,
      "outputs": [
        {
          "output_type": "stream",
          "name": "stdout",
          "text": [
            "Hora da raspagem 14/12/2023, 18:54:39\n"
          ]
        }
      ]
    },
    {
      "cell_type": "code",
      "source": [
        "#  arquivo_do_preco = 'print_' + codigo_produto + '.png'"
      ],
      "metadata": {
        "id": "h2UJLCm3nLz7"
      },
      "id": "h2UJLCm3nLz7",
      "execution_count": null,
      "outputs": []
    },
    {
      "cell_type": "markdown",
      "source": [
        "**Tentando automatizar agora com uma classe para realizar a raspagem**"
      ],
      "metadata": {
        "id": "q5ZBknO-s9OT"
      },
      "id": "q5ZBknO-s9OT"
    },
    {
      "cell_type": "code",
      "source": [
        "class Scraper:\n",
        "    def __init__(self, url):\n",
        "        self.url = url\n",
        "        self.dados = []\n",
        "\n",
        "    def get_page_content(self):\n",
        "        response = requests.get(self.url)\n",
        "        return BeautifulSoup(response.text, 'html.parser')\n",
        "\n",
        "    def collect_data(self, soup):\n",
        "      # ok\n",
        "      links = soup.find_all(\"a\", class_='product-info')\n",
        "      print(links)\n",
        "      for produto in links:\n",
        "          nome_produto = produto.find(\"h1\", class_='product-name')\n",
        "          codigo_produto = produto.find(\"div\", class_=\"product-main-info\")\n",
        "          preco_coleta = produto.find(\"span\", attrs={\"data-app\":\"product.price\"})\n",
        "          # ok\n",
        "          url_coleta = produto['href']  # Aqui está a mudança\n",
        "          data_coleta = datetime.datetime.now()\n",
        "          data_formatada = data_coleta.strftime(\"%d/%m/%Y, %H:%M:%S\")\n",
        "          self.dados.append([nome_produto, codigo_produto, preco_coleta, url_coleta, data_formatada])\n",
        "\n",
        "\n",
        "    def print_data(self):\n",
        "        for item in self.dados:\n",
        "            print(item)\n",
        "\n",
        "# Uso da classe\n",
        "scraper = Scraper('https://www.marchio.com/iluminacao-e-eletrica')\n",
        "soup = scraper.get_page_content()\n",
        "scraper.collect_data(soup)\n",
        "scraper.print_data()\n"
      ],
      "metadata": {
        "colab": {
          "base_uri": "https://localhost:8080/"
        },
        "id": "PTkL4YBItEB8",
        "outputId": "8e591a49-c7f7-45f3-8609-741eb44fb559"
      },
      "id": "PTkL4YBItEB8",
      "execution_count": null,
      "outputs": [
        {
          "output_type": "stream",
          "name": "stdout",
          "text": [
            "[<a class=\"product-info\" href=\"https://www.marchio.com/cabo-flexivel-2-5mm-amarelo-mt\">\n",
            "<div class=\"product-info-dados\">\n",
            "<div class=\"product-name\">\n",
            "                    CABO FLEXIVEL 2,5MM AMARELO - MT\n",
            "                </div>\n",
            "<div class=\"product-price\">\n",
            "<span class=\"product-has-variants text-center\">\n",
            "</span>\n",
            "<div class=\"price display-cash\">\n",
            "<span class=\"current-price\">\n",
            "        R$ 7,45\n",
            "    </span>\n",
            "<span class=\"product-installments\">\n",
            "<br/>\n",
            "<span class=\"txt-corparcelas\">\n",
            "<span class=\"txt-corparcelas\">\n",
            "<span class=\"preco-parc2\"> ou\n",
            "                                            <strong class=\"color\"> 12<span>x</span></strong>\n",
            "</span>\n",
            "</span>\n",
            "</span>\n",
            "<span class=\"preco-de\"> de </span>\n",
            "<span class=\"txt-cadaparcelas\">\n",
            "<strong class=\"preco-parc2\">R$\n",
            "                                        <span>\n",
            "<span>0<span>,<span>62</span></span></span>\n",
            "</span>\n",
            "</strong>\n",
            "</span>\n",
            "<span class=\"operadora\"> Sem juros </span>\n",
            "<!-- 12|0.62|{lower_price}|19 -->\n",
            "</span>\n",
            "</div>\n",
            "</div>\n",
            "</div>\n",
            "</a>, <a class=\"product-info\" href=\"https://www.marchio.com/adaptador-conversor-sistema-2-polos-terra-10a-cinz\">\n",
            "<div class=\"product-info-dados\">\n",
            "<div class=\"product-name\">\n",
            "                    ADAPTADOR CONVERSOR SISTEMA 2 POLOS+TERRA 10A CINZ\n",
            "                </div>\n",
            "<div class=\"product-price\">\n",
            "<span class=\"product-has-variants text-center\">\n",
            "</span>\n",
            "<div class=\"price display-cash\">\n",
            "<span class=\"current-price\">\n",
            "        R$ 10,22\n",
            "    </span>\n",
            "<span class=\"product-installments\">\n",
            "<br/>\n",
            "<span class=\"txt-corparcelas\">\n",
            "<span class=\"txt-corparcelas\">\n",
            "<span class=\"preco-parc2\"> ou\n",
            "                                            <strong class=\"color\"> 12<span>x</span></strong>\n",
            "</span>\n",
            "</span>\n",
            "</span>\n",
            "<span class=\"preco-de\"> de </span>\n",
            "<span class=\"txt-cadaparcelas\">\n",
            "<strong class=\"preco-parc2\">R$\n",
            "                                        <span>\n",
            "<span>0<span>,<span>85</span></span></span>\n",
            "</span>\n",
            "</strong>\n",
            "</span>\n",
            "<span class=\"operadora\"> Sem juros </span>\n",
            "<!-- 12|0.85|{lower_price}|19 -->\n",
            "</span>\n",
            "</div>\n",
            "</div>\n",
            "</div>\n",
            "</a>, <a class=\"product-info\" href=\"https://www.marchio.com/adaptador-conversor-sistemas-2p-10a-branco\">\n",
            "<div class=\"product-info-dados\">\n",
            "<div class=\"product-name\">\n",
            "                    ADAPTADOR CONVERSOR SISTEMAS 2P 10A BRANCO\n",
            "                </div>\n",
            "<div class=\"product-price\">\n",
            "<span class=\"product-has-variants text-center\">\n",
            "</span>\n",
            "<div class=\"price display-cash\">\n",
            "<span class=\"current-price\">\n",
            "        R$ 8,30\n",
            "    </span>\n",
            "<span class=\"product-installments\">\n",
            "<br/>\n",
            "<span class=\"txt-corparcelas\">\n",
            "<span class=\"txt-corparcelas\">\n",
            "<span class=\"preco-parc2\"> ou\n",
            "                                            <strong class=\"color\"> 12<span>x</span></strong>\n",
            "</span>\n",
            "</span>\n",
            "</span>\n",
            "<span class=\"preco-de\"> de </span>\n",
            "<span class=\"txt-cadaparcelas\">\n",
            "<strong class=\"preco-parc2\">R$\n",
            "                                        <span>\n",
            "<span>0<span>,<span>69</span></span></span>\n",
            "</span>\n",
            "</strong>\n",
            "</span>\n",
            "<span class=\"operadora\"> Sem juros </span>\n",
            "<!-- 12|0.69|{lower_price}|19 -->\n",
            "</span>\n",
            "</div>\n",
            "</div>\n",
            "</div>\n",
            "</a>, <a class=\"product-info\" href=\"https://www.marchio.com/arandela-colonial-sextavada-vidro-liso-preto-1-xe27\">\n",
            "<div class=\"product-info-dados\">\n",
            "<div class=\"product-name\">\n",
            "                    Arandela colonial sextavada vidro liso preto 1 xe27\n",
            "                </div>\n",
            "<div class=\"product-price\">\n",
            "<span class=\"product-has-variants text-center\">\n",
            "</span>\n",
            "<div class=\"price display-cash\">\n",
            "<span class=\"current-price\">\n",
            "        R$ 100,71\n",
            "    </span>\n",
            "<span class=\"product-installments\">\n",
            "<br/>\n",
            "<span class=\"txt-corparcelas\">\n",
            "<span class=\"txt-corparcelas\">\n",
            "<span class=\"preco-parc2\"> ou\n",
            "                                            <strong class=\"color\"> 12<span>x</span></strong>\n",
            "</span>\n",
            "</span>\n",
            "</span>\n",
            "<span class=\"preco-de\"> de </span>\n",
            "<span class=\"txt-cadaparcelas\">\n",
            "<strong class=\"preco-parc2\">R$\n",
            "                                        <span>\n",
            "<span>8<span>,<span>39</span></span></span>\n",
            "</span>\n",
            "</strong>\n",
            "</span>\n",
            "<span class=\"operadora\"> Sem juros </span>\n",
            "<!-- 12|8.39|{lower_price}|19 -->\n",
            "</span>\n",
            "</div>\n",
            "</div>\n",
            "</div>\n",
            "</a>, <a class=\"product-info\" href=\"https://www.marchio.com/adaptador-conversor-sistemas-2p-terra-10a-branco\">\n",
            "<div class=\"product-info-dados\">\n",
            "<div class=\"product-name\">\n",
            "                    ADAPTADOR CONVERSOR SISTEMAS 2P + TERRA 10A BRANCO\n",
            "                </div>\n",
            "<div class=\"product-price\">\n",
            "<span class=\"product-has-variants text-center\">\n",
            "</span>\n",
            "<div class=\"price display-cash\">\n",
            "<span class=\"current-price\">\n",
            "        R$ 9,67\n",
            "    </span>\n",
            "<span class=\"product-installments\">\n",
            "<br/>\n",
            "<span class=\"txt-corparcelas\">\n",
            "<span class=\"txt-corparcelas\">\n",
            "<span class=\"preco-parc2\"> ou\n",
            "                                            <strong class=\"color\"> 12<span>x</span></strong>\n",
            "</span>\n",
            "</span>\n",
            "</span>\n",
            "<span class=\"preco-de\"> de </span>\n",
            "<span class=\"txt-cadaparcelas\">\n",
            "<strong class=\"preco-parc2\">R$\n",
            "                                        <span>\n",
            "<span>0<span>,<span>81</span></span></span>\n",
            "</span>\n",
            "</strong>\n",
            "</span>\n",
            "<span class=\"operadora\"> Sem juros </span>\n",
            "<!-- 12|0.81|{lower_price}|19 -->\n",
            "</span>\n",
            "</div>\n",
            "</div>\n",
            "</div>\n",
            "</a>, <a class=\"product-info\" href=\"https://www.marchio.com/cabo-flexivel-2-5mm-branco-mt\">\n",
            "<div class=\"product-info-dados\">\n",
            "<div class=\"product-name\">\n",
            "                    CABO FLEXIVEL 2,5MM BRANCO - MT\n",
            "                </div>\n",
            "<div class=\"product-price\">\n",
            "<span class=\"product-has-variants text-center\">\n",
            "</span>\n",
            "<div class=\"price display-cash\">\n",
            "<span class=\"current-price\">\n",
            "        R$ 2,16\n",
            "    </span>\n",
            "<span class=\"product-installments\">\n",
            "<br/>\n",
            "<span class=\"txt-corparcelas\">\n",
            "<span class=\"txt-corparcelas\">\n",
            "<span class=\"preco-parc2\"> ou\n",
            "                                            <strong class=\"color\"> 12<span>x</span></strong>\n",
            "</span>\n",
            "</span>\n",
            "</span>\n",
            "<span class=\"preco-de\"> de </span>\n",
            "<span class=\"txt-cadaparcelas\">\n",
            "<strong class=\"preco-parc2\">R$\n",
            "                                        <span>\n",
            "<span>0<span>,<span>18</span></span></span>\n",
            "</span>\n",
            "</strong>\n",
            "</span>\n",
            "<span class=\"operadora\"> Sem juros </span>\n",
            "<!-- 12|0.18|{lower_price}|19 -->\n",
            "</span>\n",
            "</div>\n",
            "</div>\n",
            "</div>\n",
            "</a>, <a class=\"product-info\" href=\"https://www.marchio.com/painel-led-emb-quad-30x30-24w-6500k\">\n",
            "<div class=\"product-info-dados\">\n",
            "<div class=\"product-name\">\n",
            "                    PAINEL LED EMB QUAD 30X30 24W 6500K\n",
            "                </div>\n",
            "<div class=\"product-price\">\n",
            "<span class=\"product-has-variants text-center\">\n",
            "</span>\n",
            "<div class=\"price display-cash\">\n",
            "<span class=\"current-price\">\n",
            "        R$ 43,11\n",
            "    </span>\n",
            "<span class=\"product-installments\">\n",
            "<br/>\n",
            "<span class=\"txt-corparcelas\">\n",
            "<span class=\"txt-corparcelas\">\n",
            "<span class=\"preco-parc2\"> ou\n",
            "                                            <strong class=\"color\"> 12<span>x</span></strong>\n",
            "</span>\n",
            "</span>\n",
            "</span>\n",
            "<span class=\"preco-de\"> de </span>\n",
            "<span class=\"txt-cadaparcelas\">\n",
            "<strong class=\"preco-parc2\">R$\n",
            "                                        <span>\n",
            "<span>3<span>,<span>59</span></span></span>\n",
            "</span>\n",
            "</strong>\n",
            "</span>\n",
            "<span class=\"operadora\"> Sem juros </span>\n",
            "<!-- 12|3.59|{lower_price}|19 -->\n",
            "</span>\n",
            "</div>\n",
            "</div>\n",
            "</div>\n",
            "</a>, <a class=\"product-info\" href=\"https://www.marchio.com/painel-led-sobr-quad-30x30-24w-6500k\">\n",
            "<div class=\"product-info-dados\">\n",
            "<div class=\"product-name\">\n",
            "                    PAINEL LED SOBR QUAD 30X30 24W 6500K\n",
            "                </div>\n",
            "<div class=\"product-price\">\n",
            "<span class=\"product-has-variants text-center\">\n",
            "</span>\n",
            "<div class=\"price display-cash\">\n",
            "<span class=\"current-price\">\n",
            "        R$ 38,61\n",
            "    </span>\n",
            "<span class=\"product-installments\">\n",
            "<br/>\n",
            "<span class=\"txt-corparcelas\">\n",
            "<span class=\"txt-corparcelas\">\n",
            "<span class=\"preco-parc2\"> ou\n",
            "                                            <strong class=\"color\"> 12<span>x</span></strong>\n",
            "</span>\n",
            "</span>\n",
            "</span>\n",
            "<span class=\"preco-de\"> de </span>\n",
            "<span class=\"txt-cadaparcelas\">\n",
            "<strong class=\"preco-parc2\">R$\n",
            "                                        <span>\n",
            "<span>3<span>,<span>22</span></span></span>\n",
            "</span>\n",
            "</strong>\n",
            "</span>\n",
            "<span class=\"operadora\"> Sem juros </span>\n",
            "<!-- 12|3.22|{lower_price}|19 -->\n",
            "</span>\n",
            "</div>\n",
            "</div>\n",
            "</div>\n",
            "</a>, <a class=\"product-info\" href=\"https://www.marchio.com/cabo-flexivel-2-5mm-azul-mt\">\n",
            "<div class=\"product-info-dados\">\n",
            "<div class=\"product-name\">\n",
            "                    CABO FLEXIVEL 2,5MM AZUL - MT\n",
            "                </div>\n",
            "<div class=\"product-price\">\n",
            "<span class=\"product-has-variants text-center\">\n",
            "</span>\n",
            "<div class=\"price display-cash\">\n",
            "<span class=\"current-price\">\n",
            "        R$ 2,13\n",
            "    </span>\n",
            "<span class=\"product-installments\">\n",
            "<br/>\n",
            "<span class=\"txt-corparcelas\">\n",
            "<span class=\"txt-corparcelas\">\n",
            "<span class=\"preco-parc2\"> ou\n",
            "                                            <strong class=\"color\"> 12<span>x</span></strong>\n",
            "</span>\n",
            "</span>\n",
            "</span>\n",
            "<span class=\"preco-de\"> de </span>\n",
            "<span class=\"txt-cadaparcelas\">\n",
            "<strong class=\"preco-parc2\">R$\n",
            "                                        <span>\n",
            "<span>0<span>,<span>18</span></span></span>\n",
            "</span>\n",
            "</strong>\n",
            "</span>\n",
            "<span class=\"operadora\"> Sem juros </span>\n",
            "<!-- 12|0.18|{lower_price}|19 -->\n",
            "</span>\n",
            "</div>\n",
            "</div>\n",
            "</div>\n",
            "</a>, <a class=\"product-info\" href=\"https://www.marchio.com/cabo-flexivel-2-5mm-cinza-mt\">\n",
            "<div class=\"product-info-dados\">\n",
            "<div class=\"product-name\">\n",
            "                    CABO FLEXIVEL 2,5MM CINZA - MT\n",
            "                </div>\n",
            "<div class=\"product-price\">\n",
            "<span class=\"product-has-variants text-center\">\n",
            "</span>\n",
            "<div class=\"price display-cash\">\n",
            "<span class=\"current-price\">\n",
            "        R$ 2,16\n",
            "    </span>\n",
            "<span class=\"product-installments\">\n",
            "<br/>\n",
            "<span class=\"txt-corparcelas\">\n",
            "<span class=\"txt-corparcelas\">\n",
            "<span class=\"preco-parc2\"> ou\n",
            "                                            <strong class=\"color\"> 12<span>x</span></strong>\n",
            "</span>\n",
            "</span>\n",
            "</span>\n",
            "<span class=\"preco-de\"> de </span>\n",
            "<span class=\"txt-cadaparcelas\">\n",
            "<strong class=\"preco-parc2\">R$\n",
            "                                        <span>\n",
            "<span>0<span>,<span>18</span></span></span>\n",
            "</span>\n",
            "</strong>\n",
            "</span>\n",
            "<span class=\"operadora\"> Sem juros </span>\n",
            "<!-- 12|0.18|{lower_price}|19 -->\n",
            "</span>\n",
            "</div>\n",
            "</div>\n",
            "</div>\n",
            "</a>, <a class=\"product-info\" href=\"https://www.marchio.com/arandela-bolt-quadrada-e-27-difusor-vidro-esp\">\n",
            "<div class=\"product-info-dados\">\n",
            "<div class=\"product-name\">\n",
            "                    ARANDELA BOLT QUADRADA E-27 DIFUSOR VIDRO ESP\n",
            "                </div>\n",
            "<div class=\"product-price\">\n",
            "<span class=\"product-has-variants text-center\">\n",
            "</span>\n",
            "<div class=\"price display-cash\">\n",
            "<span class=\"current-price\">\n",
            "        R$ 173,79\n",
            "    </span>\n",
            "<span class=\"product-installments\">\n",
            "<br/>\n",
            "<span class=\"txt-corparcelas\">\n",
            "<span class=\"txt-corparcelas\">\n",
            "<span class=\"preco-parc2\"> ou\n",
            "                                            <strong class=\"color\"> 12<span>x</span></strong>\n",
            "</span>\n",
            "</span>\n",
            "</span>\n",
            "<span class=\"preco-de\"> de </span>\n",
            "<span class=\"txt-cadaparcelas\">\n",
            "<strong class=\"preco-parc2\">R$\n",
            "                                        <span>\n",
            "<span>14<span>,<span>48</span></span></span>\n",
            "</span>\n",
            "</strong>\n",
            "</span>\n",
            "<span class=\"operadora\"> Sem juros </span>\n",
            "<!-- 12|14.48|{lower_price}|19 -->\n",
            "</span>\n",
            "</div>\n",
            "</div>\n",
            "</div>\n",
            "</a>]\n",
            "[None, None, None, 'https://www.marchio.com/cabo-flexivel-2-5mm-amarelo-mt', '14/12/2023, 19:20:57']\n",
            "[None, None, None, 'https://www.marchio.com/adaptador-conversor-sistema-2-polos-terra-10a-cinz', '14/12/2023, 19:20:57']\n",
            "[None, None, None, 'https://www.marchio.com/adaptador-conversor-sistemas-2p-10a-branco', '14/12/2023, 19:20:57']\n",
            "[None, None, None, 'https://www.marchio.com/arandela-colonial-sextavada-vidro-liso-preto-1-xe27', '14/12/2023, 19:20:57']\n",
            "[None, None, None, 'https://www.marchio.com/adaptador-conversor-sistemas-2p-terra-10a-branco', '14/12/2023, 19:20:57']\n",
            "[None, None, None, 'https://www.marchio.com/cabo-flexivel-2-5mm-branco-mt', '14/12/2023, 19:20:57']\n",
            "[None, None, None, 'https://www.marchio.com/painel-led-emb-quad-30x30-24w-6500k', '14/12/2023, 19:20:57']\n",
            "[None, None, None, 'https://www.marchio.com/painel-led-sobr-quad-30x30-24w-6500k', '14/12/2023, 19:20:57']\n",
            "[None, None, None, 'https://www.marchio.com/cabo-flexivel-2-5mm-azul-mt', '14/12/2023, 19:20:57']\n",
            "[None, None, None, 'https://www.marchio.com/cabo-flexivel-2-5mm-cinza-mt', '14/12/2023, 19:20:57']\n",
            "[None, None, None, 'https://www.marchio.com/arandela-bolt-quadrada-e-27-difusor-vidro-esp', '14/12/2023, 19:20:57']\n"
          ]
        }
      ]
    },
    {
      "cell_type": "markdown",
      "source": [
        "**Melhorando criando um loop sobre a lista de links, assim podemos acessar em cada página individualmente dos produtos**"
      ],
      "metadata": {
        "id": "An9peZtsJabk"
      },
      "id": "An9peZtsJabk"
    },
    {
      "cell_type": "code",
      "source": [
        "import requests\n",
        "from bs4 import BeautifulSoup\n",
        "import datetime\n",
        "\n",
        "def get_page_content(url):\n",
        "    response = requests.get(url)\n",
        "    return BeautifulSoup(response.text, 'html.parser')\n",
        "\n",
        "def collect_data(soup):\n",
        "    links = soup.find_all(\"a\", attrs={'class':'product-info'})\n",
        "    dados = []\n",
        "\n",
        "    link_list = []\n",
        "    for link in links:\n",
        "      link_list.append(link['href'])\n",
        "\n",
        "    for link in link_list:\n",
        "      url_coleta = link\n",
        "      new_webpage = requests.get(url_coleta, headers=HEADERS)\n",
        "      new_soup = BeautifulSoup(new_webpage.content, \"html.parser\")\n",
        "      nome_produto = new_soup.find(\"h1\", attrs={\"class\":'product-name'}).text.strip()\n",
        "      codigo_produto = new_soup.find(\"div\", attrs={\"class\":\"product-main-info\"}).text.strip().split()\n",
        "      preco_coleta = new_soup.find(\"span\", attrs={\"class\":\"current-price\"}).text.strip()\n",
        "      data_coleta = datetime.datetime.now().strftime(\"%d/%m/%Y, %H:%M:%S\")\n",
        "      dados.append([nome_produto, codigo_produto, preco_coleta, url_coleta, data_coleta])\n",
        "    return dados\n",
        "\n",
        "# Deu certinho\n",
        "def print_data(dados):\n",
        "    for item in dados:\n",
        "        print(item)\n",
        "\n",
        "# Uso das funções\n",
        "url = 'https://www.marchio.com/iluminacao-e-eletrica'\n",
        "soup = get_page_content(url)\n",
        "dados = collect_data(soup)\n",
        "print_data(dados)\n"
      ],
      "metadata": {
        "colab": {
          "base_uri": "https://localhost:8080/"
        },
        "id": "bVZxvoLXMap2",
        "outputId": "7187a6cb-2ef5-4703-cecb-edc7e19dad2c"
      },
      "id": "bVZxvoLXMap2",
      "execution_count": null,
      "outputs": [
        {
          "output_type": "stream",
          "name": "stdout",
          "text": [
            "['CABO FLEXIVEL 2,5MM AMARELO - MT', ['Ref:', '108645', 'Marca:', 'COBRECOM', 'Modelo:', '1150501401'], 'R$ 2,09', 'https://www.marchio.com/cabo-flexivel-2-5mm-amarelo-mt', '15/12/2023, 01:57:52']\n",
            "['ADAPTADOR CONVERSOR SISTEMA 2 POLOS+TERRA 10A CINZ', ['Ref:', '101405', 'Marca:', 'ENERBRAS', 'Modelo:', '070-E'], 'R$ 6,20', 'https://www.marchio.com/adaptador-conversor-sistema-2-polos-terra-10a-cinz', '15/12/2023, 01:57:53']\n",
            "['ADAPTADOR CONVERSOR SISTEMAS 2P 10A BRANCO', ['Ref:', '100650', 'Marca:', 'ENERBRAS', 'Modelo:', '073-EB'], 'R$ 9,67', 'https://www.marchio.com/adaptador-conversor-sistemas-2p-10a-branco', '15/12/2023, 01:57:54']\n",
            "['Arandela colonial sextavada vidro liso preto 1 xe27', ['Ref:', '104101', 'Marca:', 'BLUMENAU', 'Modelo:', '109400-01'], 'R$ 120,95', 'https://www.marchio.com/arandela-colonial-sextavada-vidro-liso-preto-1-xe27', '15/12/2023, 01:57:55']\n",
            "['ADAPTADOR CONVERSOR SISTEMAS 2P + TERRA 10A BRANCO', ['Ref:', '100651', 'Marca:', 'ENERBRAS', 'Modelo:', '070-EB/P.'], 'R$ 8,30', 'https://www.marchio.com/adaptador-conversor-sistemas-2p-terra-10a-branco', '15/12/2023, 01:57:56']\n",
            "['CABO FLEXIVEL 2,5MM BRANCO - MT', ['Ref:', '95391', 'Marca:', 'COBRECOM', 'Modelo:', '1150503401'], 'R$ 2,16', 'https://www.marchio.com/cabo-flexivel-2-5mm-branco-mt', '15/12/2023, 01:57:57']\n",
            "['PAINEL LED EMB QUAD 30X30 24W 6500K', ['Ref:', '117922', 'Marca:', 'TASCHIBRA', 'Modelo:', '15090182'], 'R$ 38,61', 'https://www.marchio.com/painel-led-emb-quad-30x30-24w-6500k', '15/12/2023, 01:57:58']\n",
            "['PAINEL LED SOBR QUAD 30X30 24W 6500K', ['Ref:', '117923', 'Marca:', 'TASCHIBRA', 'Modelo:', '15070126'], 'R$ 43,11', 'https://www.marchio.com/painel-led-sobr-quad-30x30-24w-6500k', '15/12/2023, 01:57:59']\n",
            "['CABO FLEXIVEL 2,5MM AZUL - MT', ['Ref:', '90006', 'Marca:', 'COBRECOM', 'Modelo:', '1150502401'], 'R$ 2,09', 'https://www.marchio.com/cabo-flexivel-2-5mm-azul-mt', '15/12/2023, 01:58:00']\n",
            "['CABO FLEXIVEL 2,5MM CINZA - MT', ['Ref:', '108647', 'Marca:', 'COBRECOM', 'Modelo:', '1150508401'], 'R$ 2,09', 'https://www.marchio.com/cabo-flexivel-2-5mm-cinza-mt', '15/12/2023, 01:58:01']\n",
            "['ARANDELA BOLT QUADRADA E-27 DIFUSOR VIDRO ESP', ['Ref:', '116430', 'Marca:', 'IDEAL', 'Modelo:', '5973'], 'R$ 100,71', 'https://www.marchio.com/arandela-bolt-quadrada-e-27-difusor-vidro-esp', '15/12/2023, 01:58:02']\n"
          ]
        }
      ]
    },
    {
      "cell_type": "markdown",
      "source": [
        "**Testando criar um dataframe direto**"
      ],
      "metadata": {
        "id": "Kks3NUOFMdRs"
      },
      "id": "Kks3NUOFMdRs"
    },
    {
      "cell_type": "code",
      "source": [
        "import requests\n",
        "from bs4 import BeautifulSoup\n",
        "import datetime\n",
        "\n",
        "def get_page_content(url):\n",
        "    response = requests.get(url)\n",
        "    return BeautifulSoup(response.text, 'html.parser')\n",
        "\n",
        "def collect_data(soup):\n",
        "    links = soup.find_all(\"a\", attrs={'class':'product-info'})\n",
        "    # criando um dicionário para transformar em dataframe\n",
        "    dados = {\"Nome_Produto\":[],\"Codigo_Produto\":[],\"Preço_Coleta\":[],\"Url_Coleta\":[],\"Data_coleta\":[]}\n",
        "\n",
        "    link_list = []\n",
        "\n",
        "    for link in links:\n",
        "      link_list.append(link['href'])\n",
        "\n",
        "    for link in link_list:\n",
        "\n",
        "      url_coleta = link\n",
        "      new_webpage = requests.get(url_coleta, headers=HEADERS)\n",
        "      new_soup = BeautifulSoup(new_webpage.content, \"html.parser\")\n",
        "\n",
        "      nome_produto = new_soup.find(\"h1\", attrs={\"class\":'product-name'}).text.strip()\n",
        "      codigo_produto = new_soup.find(\"div\", attrs={\"class\":\"product-main-info\"}).text.strip().split()\n",
        "      preco_coleta = new_soup.find(\"span\", attrs={\"class\":\"current-price\"}).text.strip()\n",
        "      data_coleta = datetime.datetime.now().strftime(\"%d/%m/%Y, %H:%M:%S\")\n",
        "\n",
        "      dados[\"Nome_Produto\"].append(nome_produto)\n",
        "      dados[\"Codigo_Produto\"].append(codigo_produto)\n",
        "      dados[\"Preço_Coleta\"].append(preco_coleta)\n",
        "      dados[\"Url_Coleta\"].append(url_coleta)\n",
        "      dados[\"Data_coleta\"].append(data_coleta)\n",
        "    return dados\n",
        "\n",
        "# Deu certinho\n",
        "def print_data(dados):\n",
        "    for prod,info in dados.items():\n",
        "        print(prod,info)\n",
        "\n",
        "# Uso das funções\n",
        "url = 'https://www.marchio.com/iluminacao-e-eletrica'\n",
        "soup = get_page_content(url)\n",
        "dados = collect_data(soup)\n",
        "print_data(dados)"
      ],
      "metadata": {
        "colab": {
          "base_uri": "https://localhost:8080/"
        },
        "id": "-HZXA2O_FF5g",
        "outputId": "8635f705-974b-46ea-a915-2a862b5e5389"
      },
      "id": "-HZXA2O_FF5g",
      "execution_count": null,
      "outputs": [
        {
          "output_type": "stream",
          "name": "stdout",
          "text": [
            "Nome_Produto ['CABO FLEXIVEL 2,5MM AMARELO - MT', 'ADAPTADOR CONVERSOR SISTEMA 2 POLOS+TERRA 10A CINZ', 'ADAPTADOR CONVERSOR SISTEMAS 2P 10A BRANCO', 'Arandela colonial sextavada vidro liso preto 1 xe27', 'ADAPTADOR CONVERSOR SISTEMAS 2P + TERRA 10A BRANCO', 'CABO FLEXIVEL 2,5MM BRANCO - MT', 'PAINEL LED EMB QUAD 30X30 24W 6500K', 'PAINEL LED SOBR QUAD 30X30 24W 6500K', 'CABO FLEXIVEL 2,5MM AZUL - MT', 'CABO FLEXIVEL 2,5MM CINZA - MT', 'ARANDELA BOLT QUADRADA E-27 DIFUSOR VIDRO ESP']\n",
            "Codigo_Produto [['Ref:', '108645', 'Marca:', 'COBRECOM', 'Modelo:', '1150501401'], ['Ref:', '101405', 'Marca:', 'ENERBRAS', 'Modelo:', '070-E'], ['Ref:', '100650', 'Marca:', 'ENERBRAS', 'Modelo:', '073-EB'], ['Ref:', '104101', 'Marca:', 'BLUMENAU', 'Modelo:', '109400-01'], ['Ref:', '100651', 'Marca:', 'ENERBRAS', 'Modelo:', '070-EB/P.'], ['Ref:', '95391', 'Marca:', 'COBRECOM', 'Modelo:', '1150503401'], ['Ref:', '117922', 'Marca:', 'TASCHIBRA', 'Modelo:', '15090182'], ['Ref:', '117923', 'Marca:', 'TASCHIBRA', 'Modelo:', '15070126'], ['Ref:', '90006', 'Marca:', 'COBRECOM', 'Modelo:', '1150502401'], ['Ref:', '108647', 'Marca:', 'COBRECOM', 'Modelo:', '1150508401'], ['Ref:', '116430', 'Marca:', 'IDEAL', 'Modelo:', '5973']]\n",
            "Preço_Coleta ['R$ 2,09', 'R$ 6,20', 'R$ 9,67', 'R$ 120,95', 'R$ 8,30', 'R$ 2,16', 'R$ 38,61', 'R$ 43,11', 'R$ 2,09', 'R$ 2,09', 'R$ 100,71']\n",
            "Url_Coleta ['https://www.marchio.com/cabo-flexivel-2-5mm-amarelo-mt', 'https://www.marchio.com/adaptador-conversor-sistema-2-polos-terra-10a-cinz', 'https://www.marchio.com/adaptador-conversor-sistemas-2p-10a-branco', 'https://www.marchio.com/arandela-colonial-sextavada-vidro-liso-preto-1-xe27', 'https://www.marchio.com/adaptador-conversor-sistemas-2p-terra-10a-branco', 'https://www.marchio.com/cabo-flexivel-2-5mm-branco-mt', 'https://www.marchio.com/painel-led-emb-quad-30x30-24w-6500k', 'https://www.marchio.com/painel-led-sobr-quad-30x30-24w-6500k', 'https://www.marchio.com/cabo-flexivel-2-5mm-azul-mt', 'https://www.marchio.com/cabo-flexivel-2-5mm-cinza-mt', 'https://www.marchio.com/arandela-bolt-quadrada-e-27-difusor-vidro-esp']\n",
            "Data_coleta ['15/12/2023, 02:17:20', '15/12/2023, 02:17:21', '15/12/2023, 02:17:22', '15/12/2023, 02:17:23', '15/12/2023, 02:17:24', '15/12/2023, 02:17:25', '15/12/2023, 02:17:26', '15/12/2023, 02:17:26', '15/12/2023, 02:17:27', '15/12/2023, 02:17:28', '15/12/2023, 02:17:29']\n"
          ]
        }
      ]
    },
    {
      "cell_type": "markdown",
      "source": [
        "**Criando funções para tratar melhor os dados da raspagem**"
      ],
      "metadata": {
        "id": "7GAmk-zvVeiM"
      },
      "id": "7GAmk-zvVeiM"
    },
    {
      "cell_type": "code",
      "source": [
        "# Function to extract Product Title\n",
        "def get_title(soup):\n",
        "\n",
        "    try:\n",
        "        # Outer Tag Object\n",
        "        title = soup.find(\"h1\", attrs={\"class\":'product-name'})\n",
        "\n",
        "        # Inner NavigatableString Object\n",
        "        title_value = title.text\n",
        "\n",
        "        # Title as a string value\n",
        "        title_string = title_value.strip()\n",
        "\n",
        "    except AttributeError:\n",
        "        title_string = \"\"\n",
        "\n",
        "    return title_string\n",
        "\n",
        "\n",
        "def get_info(soup):\n",
        "\n",
        "    try:\n",
        "        # Outer Tag Object\n",
        "        info = soup.find(\"div\", attrs={\"class\":\"product-main-info\"})\n",
        "\n",
        "        # Inner NavigatableString Object\n",
        "        info_value = info.text\n",
        "\n",
        "        # Title as a string value\n",
        "        info_string = info_value.strip().split()\n",
        "\n",
        "    except AttributeError:\n",
        "        info_string = \"\"\n",
        "\n",
        "    return info_string\n",
        "\n",
        "\n",
        "def get_price(soup):\n",
        "\n",
        "    try:\n",
        "        # Outer Tag Object\n",
        "        price = soup.find(\"span\", attrs={\"class\":\"current-price\"})\n",
        "\n",
        "        # Inner NavigatableString Object\n",
        "        price_value = price.text\n",
        "\n",
        "        # Title as a string value\n",
        "        price_string = price_value.strip()\n",
        "\n",
        "    except AttributeError:\n",
        "        price_string = \"\"\n",
        "\n",
        "    return price_string"
      ],
      "metadata": {
        "id": "j5zqMpFcVeFN"
      },
      "id": "j5zqMpFcVeFN",
      "execution_count": 14,
      "outputs": []
    },
    {
      "cell_type": "markdown",
      "source": [
        "---\n",
        "**Testando as funções criadas**"
      ],
      "metadata": {
        "id": "AF5eocyHXpGW"
      },
      "id": "AF5eocyHXpGW"
    },
    {
      "cell_type": "code",
      "source": [
        "import time\n",
        "\n",
        "# Marque o tempo de início\n",
        "start_time = time.time()\n",
        "\n",
        "# Execute seu código de raspagem aqui\n",
        "import requests\n",
        "from bs4 import BeautifulSoup\n",
        "import datetime\n",
        "\n",
        "# Headers for request\n",
        "HEADERS = ({'User-Agent': 'Mozilla/5.0 (Windows NT 10.0; Win64; x64) AppleWebKit/537.36 (KHTML, like Gecko) Chrome/120.0.0.0 Safari/537.36', 'Accept-Language': 'pt-BR, pt;q=0.9'})\n",
        "\n",
        "url = 'https://www.marchio.com/iluminacao-e-eletrica'\n",
        "\n",
        "# HTTP Request\n",
        "webpage = requests.get(url, headers=HEADERS)\n",
        "\n",
        "# Soup Object containing all data\n",
        "soup = BeautifulSoup(webpage.content, \"html.parser\")\n",
        "\n",
        "links = soup.find_all(\"a\", attrs={'class':'product-info'})\n",
        "# criando um dicionário para transformar em dataframe\n",
        "dados = {\"Nome_Produto\":[],\"Codigo_Produto\":[],\"Preço_Coleta\":[],\"Url_Coleta\":[],\"Data_coleta\":[]}\n",
        "\n",
        "link_list = []\n",
        "\n",
        "for link in links:\n",
        "  link_list.append(link['href'])\n",
        "\n",
        "for link in link_list:\n",
        "\n",
        "  url_coleta = link\n",
        "\n",
        "  new_webpage = requests.get(url_coleta, headers=HEADERS)\n",
        "  new_soup = BeautifulSoup(new_webpage.content, \"html.parser\")\n",
        "\n",
        "  # nome_produto = new_soup.find(\"h1\", attrs={\"class\":'product-name'}).text.strip()\n",
        "  # codigo_produto = new_soup.find(\"div\", attrs={\"class\":\"product-main-info\"}).text.strip().split()\n",
        "  # preco_coleta = new_soup.find(\"span\", attrs={\"class\":\"current-price\"}).text.strip()\n",
        "  data_coleta = datetime.datetime.now().strftime(\"%d/%m/%Y, %H:%M:%S\")\n",
        "\n",
        "  dados[\"Nome_Produto\"].append(get_title(new_soup))\n",
        "  dados[\"Codigo_Produto\"].append(get_info(new_soup))\n",
        "  dados[\"Preço_Coleta\"].append(get_price(new_soup))\n",
        "  dados[\"Url_Coleta\"].append(url_coleta)\n",
        "  dados[\"Data_coleta\"].append(data_coleta)\n",
        "\n",
        "\n",
        "# Deu certinho\n",
        "def print_data(dados):\n",
        "  for prod,info in dados.items():\n",
        "      print(prod,info)\n",
        "\n",
        "# Uso das funções\n",
        "url = 'https://www.marchio.com/iluminacao-e-eletrica'\n",
        "soup = get_page_content(url)\n",
        "\n",
        "print_data(dados)\n",
        "\n",
        "# Marque o tempo de término\n",
        "end_time = time.time()\n",
        "\n",
        "# Calcule a diferença, que é o tempo que seu código levou para executar\n",
        "elapsed_time = end_time - start_time\n",
        "\n",
        "print('*--------------------------------------------------------------------*')\n",
        "\n",
        "print(f\"A raspagem levou {round(elapsed_time,4)} segundos para ser concluída.\")\n"
      ],
      "metadata": {
        "colab": {
          "base_uri": "https://localhost:8080/"
        },
        "id": "2SjZbx4AXdvZ",
        "outputId": "e3820446-70ef-40e4-98b9-70500ca3ed04"
      },
      "id": "2SjZbx4AXdvZ",
      "execution_count": 15,
      "outputs": [
        {
          "output_type": "stream",
          "name": "stdout",
          "text": [
            "Nome_Produto ['CABO FLEXIVEL 2,5MM AMARELO - MT', 'ADAPTADOR CONVERSOR SISTEMA 2 POLOS+TERRA 10A CINZ', 'ADAPTADOR CONVERSOR SISTEMAS 2P 10A BRANCO', 'Arandela colonial sextavada vidro liso preto 1 xe27', 'ADAPTADOR CONVERSOR SISTEMAS 2P + TERRA 10A BRANCO', 'CABO FLEXIVEL 2,5MM BRANCO - MT', 'PAINEL LED EMB QUAD 30X30 24W 6500K', 'PAINEL LED SOBR QUAD 30X30 24W 6500K', 'CABO FLEXIVEL 2,5MM AZUL - MT', 'CABO FLEXIVEL 2,5MM CINZA - MT', 'ARANDELA BOLT QUADRADA E-27 DIFUSOR VIDRO ESP']\n",
            "Codigo_Produto [['Ref:', '108645', 'Marca:', 'COBRECOM', 'Modelo:', '1150501401'], ['Ref:', '101405', 'Marca:', 'ENERBRAS', 'Modelo:', '070-E'], ['Ref:', '100650', 'Marca:', 'ENERBRAS', 'Modelo:', '073-EB'], ['Ref:', '104101', 'Marca:', 'BLUMENAU', 'Modelo:', '109400-01'], ['Ref:', '100651', 'Marca:', 'ENERBRAS', 'Modelo:', '070-EB/P.'], ['Ref:', '95391', 'Marca:', 'COBRECOM', 'Modelo:', '1150503401'], ['Ref:', '117922', 'Marca:', 'TASCHIBRA', 'Modelo:', '15090182'], ['Ref:', '117923', 'Marca:', 'TASCHIBRA', 'Modelo:', '15070126'], ['Ref:', '90006', 'Marca:', 'COBRECOM', 'Modelo:', '1150502401'], ['Ref:', '108647', 'Marca:', 'COBRECOM', 'Modelo:', '1150508401'], ['Ref:', '116430', 'Marca:', 'IDEAL', 'Modelo:', '5973']]\n",
            "Preço_Coleta ['R$ 2,16', 'R$ 6,20', 'R$ 9,67', 'R$ 120,95', 'R$ 8,30', 'R$ 2,09', 'R$ 38,61', 'R$ 43,11', 'R$ 2,09', 'R$ 2,09', 'R$ 100,71']\n",
            "Url_Coleta ['https://www.marchio.com/cabo-flexivel-2-5mm-amarelo-mt', 'https://www.marchio.com/adaptador-conversor-sistema-2-polos-terra-10a-cinz', 'https://www.marchio.com/adaptador-conversor-sistemas-2p-10a-branco', 'https://www.marchio.com/arandela-colonial-sextavada-vidro-liso-preto-1-xe27', 'https://www.marchio.com/adaptador-conversor-sistemas-2p-terra-10a-branco', 'https://www.marchio.com/cabo-flexivel-2-5mm-branco-mt', 'https://www.marchio.com/painel-led-emb-quad-30x30-24w-6500k', 'https://www.marchio.com/painel-led-sobr-quad-30x30-24w-6500k', 'https://www.marchio.com/cabo-flexivel-2-5mm-azul-mt', 'https://www.marchio.com/cabo-flexivel-2-5mm-cinza-mt', 'https://www.marchio.com/arandela-bolt-quadrada-e-27-difusor-vidro-esp']\n",
            "Data_coleta ['15/12/2023, 12:23:13', '15/12/2023, 12:23:14', '15/12/2023, 12:23:15', '15/12/2023, 12:23:16', '15/12/2023, 12:23:16', '15/12/2023, 12:23:17', '15/12/2023, 12:23:18', '15/12/2023, 12:23:19', '15/12/2023, 12:23:20', '15/12/2023, 12:23:20', '15/12/2023, 12:23:21']\n",
            "*--------------------------------------------------------------------*\n",
            "A raspagem levou 10.9485 segundos para ser concluída.\n"
          ]
        }
      ]
    },
    {
      "cell_type": "markdown",
      "source": [
        "---\n",
        "**Versão analisando o tempo da raspagem**\n",
        "---"
      ],
      "metadata": {
        "id": "0eM1F1c-VRql"
      },
      "id": "0eM1F1c-VRql"
    },
    {
      "cell_type": "code",
      "source": [
        "import time\n",
        "\n",
        "# Marque o tempo de início\n",
        "start_time = time.time()\n",
        "\n",
        "# Execute seu código de raspagem aqui\n",
        "import requests\n",
        "from bs4 import BeautifulSoup\n",
        "import datetime\n",
        "\n",
        "def get_page_content(url):\n",
        "    response = requests.get(url)\n",
        "    return BeautifulSoup(response.text, 'html.parser')\n",
        "\n",
        "def collect_data(soup):\n",
        "    links = soup.find_all(\"a\", attrs={'class':'product-info'})\n",
        "    # criando um dicionário para transformar em dataframe\n",
        "    dados = {\"Nome_Produto\":[],\"Codigo_Produto\":[],\"Preço_Coleta\":[],\"Url_Coleta\":[],\"Data_coleta\":[]}\n",
        "\n",
        "    link_list = []\n",
        "\n",
        "    for link in links:\n",
        "      link_list.append(link['href'])\n",
        "\n",
        "    for link in link_list:\n",
        "\n",
        "      url_coleta = link\n",
        "\n",
        "      new_webpage = requests.get(url_coleta, headers=HEADERS)\n",
        "      new_soup = BeautifulSoup(new_webpage.content, \"html.parser\")\n",
        "\n",
        "      nome_produto = new_soup.find(\"h1\", attrs={\"class\":'product-name'}).text.strip()\n",
        "      codigo_produto = new_soup.find(\"div\", attrs={\"class\":\"product-main-info\"}).text.strip().split()\n",
        "      preco_coleta = new_soup.find(\"span\", attrs={\"class\":\"current-price\"}).text.strip()\n",
        "      data_coleta = datetime.datetime.now().strftime(\"%d/%m/%Y, %H:%M:%S\")\n",
        "\n",
        "      dados[\"Nome_Produto\"].append(nome_produto)\n",
        "      dados[\"Codigo_Produto\"].append(codigo_produto)\n",
        "      dados[\"Preço_Coleta\"].append(preco_coleta)\n",
        "      dados[\"Url_Coleta\"].append(url_coleta)\n",
        "      dados[\"Data_coleta\"].append(data_coleta)\n",
        "    return dados\n",
        "\n",
        "# Deu certinho\n",
        "def print_data(dados):\n",
        "    for prod,info in dados.items():\n",
        "        print(prod,info)\n",
        "\n",
        "# Uso das funções\n",
        "url = 'https://www.marchio.com/iluminacao-e-eletrica'\n",
        "soup = get_page_content(url)\n",
        "dados = collect_data(soup)\n",
        "print_data(dados)\n",
        "\n",
        "# Marque o tempo de término\n",
        "end_time = time.time()\n",
        "\n",
        "# Calcule a diferença, que é o tempo que seu código levou para executar\n",
        "elapsed_time = end_time - start_time\n",
        "\n",
        "print('*--------------------------------------------------------------------*')\n",
        "\n",
        "print(f\"A raspagem levou {round(elapsed_time,4)} segundos para ser concluída.\")\n"
      ],
      "metadata": {
        "colab": {
          "base_uri": "https://localhost:8080/"
        },
        "id": "CVgzBmB9SID6",
        "outputId": "a971e959-5525-48cd-9e5b-80df8368b612"
      },
      "id": "CVgzBmB9SID6",
      "execution_count": null,
      "outputs": [
        {
          "output_type": "stream",
          "name": "stdout",
          "text": [
            "Nome_Produto ['CABO FLEXIVEL 2,5MM AMARELO - MT', 'ADAPTADOR CONVERSOR SISTEMA 2 POLOS+TERRA 10A CINZ', 'ADAPTADOR CONVERSOR SISTEMAS 2P 10A BRANCO', 'Arandela colonial sextavada vidro liso preto 1 xe27', 'ADAPTADOR CONVERSOR SISTEMAS 2P + TERRA 10A BRANCO', 'CABO FLEXIVEL 2,5MM BRANCO - MT', 'PAINEL LED EMB QUAD 30X30 24W 6500K', 'PAINEL LED SOBR QUAD 30X30 24W 6500K', 'CABO FLEXIVEL 2,5MM AZUL - MT', 'CABO FLEXIVEL 2,5MM CINZA - MT', 'ARANDELA BOLT QUADRADA E-27 DIFUSOR VIDRO ESP']\n",
            "Codigo_Produto [['Ref:', '108645', 'Marca:', 'COBRECOM', 'Modelo:', '1150501401'], ['Ref:', '101405', 'Marca:', 'ENERBRAS', 'Modelo:', '070-E'], ['Ref:', '100650', 'Marca:', 'ENERBRAS', 'Modelo:', '073-EB'], ['Ref:', '104101', 'Marca:', 'BLUMENAU', 'Modelo:', '109400-01'], ['Ref:', '100651', 'Marca:', 'ENERBRAS', 'Modelo:', '070-EB/P.'], ['Ref:', '95391', 'Marca:', 'COBRECOM', 'Modelo:', '1150503401'], ['Ref:', '117922', 'Marca:', 'TASCHIBRA', 'Modelo:', '15090182'], ['Ref:', '117923', 'Marca:', 'TASCHIBRA', 'Modelo:', '15070126'], ['Ref:', '90006', 'Marca:', 'COBRECOM', 'Modelo:', '1150502401'], ['Ref:', '108647', 'Marca:', 'COBRECOM', 'Modelo:', '1150508401'], ['Ref:', '116430', 'Marca:', 'IDEAL', 'Modelo:', '5973']]\n",
            "Preço_Coleta ['R$ 2,09', 'R$ 6,20', 'R$ 9,67', 'R$ 120,95', 'R$ 8,30', 'R$ 2,16', 'R$ 38,61', 'R$ 43,11', 'R$ 2,09', 'R$ 2,09', 'R$ 100,71']\n",
            "Url_Coleta ['https://www.marchio.com/cabo-flexivel-2-5mm-amarelo-mt', 'https://www.marchio.com/adaptador-conversor-sistema-2-polos-terra-10a-cinz', 'https://www.marchio.com/adaptador-conversor-sistemas-2p-10a-branco', 'https://www.marchio.com/arandela-colonial-sextavada-vidro-liso-preto-1-xe27', 'https://www.marchio.com/adaptador-conversor-sistemas-2p-terra-10a-branco', 'https://www.marchio.com/cabo-flexivel-2-5mm-branco-mt', 'https://www.marchio.com/painel-led-emb-quad-30x30-24w-6500k', 'https://www.marchio.com/painel-led-sobr-quad-30x30-24w-6500k', 'https://www.marchio.com/cabo-flexivel-2-5mm-azul-mt', 'https://www.marchio.com/cabo-flexivel-2-5mm-cinza-mt', 'https://www.marchio.com/arandela-bolt-quadrada-e-27-difusor-vidro-esp']\n",
            "Data_coleta ['15/12/2023, 02:24:56', '15/12/2023, 02:24:57', '15/12/2023, 02:24:57', '15/12/2023, 02:24:58', '15/12/2023, 02:24:59', '15/12/2023, 02:25:00', '15/12/2023, 02:25:01', '15/12/2023, 02:25:02', '15/12/2023, 02:25:03', '15/12/2023, 02:25:04', '15/12/2023, 02:25:05']\n",
            "*--------------------------------------------------------------------*\n",
            "A raspagem levou 11.1634 segundos para ser concluída.\n"
          ]
        }
      ]
    },
    {
      "cell_type": "markdown",
      "source": [
        "**Transformando em dataframe**"
      ],
      "metadata": {
        "id": "ugYZ-h5aJ0rO"
      },
      "id": "ugYZ-h5aJ0rO"
    },
    {
      "cell_type": "code",
      "source": [
        "import pandas as pd\n",
        "\n",
        "df =pd.DataFrame.from_dict(dados)\n",
        "df"
      ],
      "metadata": {
        "colab": {
          "base_uri": "https://localhost:8080/",
          "height": 585
        },
        "id": "cCkMIkMrFF3v",
        "outputId": "0a712dfe-8457-4970-a863-a9bca1413f33"
      },
      "id": "cCkMIkMrFF3v",
      "execution_count": null,
      "outputs": [
        {
          "output_type": "execute_result",
          "data": {
            "text/plain": [
              "                                         Nome_Produto  \\\n",
              "0                    CABO FLEXIVEL 2,5MM AMARELO - MT   \n",
              "1   ADAPTADOR CONVERSOR SISTEMA 2 POLOS+TERRA 10A ...   \n",
              "2          ADAPTADOR CONVERSOR SISTEMAS 2P 10A BRANCO   \n",
              "3   Arandela colonial sextavada vidro liso preto 1...   \n",
              "4   ADAPTADOR CONVERSOR SISTEMAS 2P + TERRA 10A BR...   \n",
              "5                     CABO FLEXIVEL 2,5MM BRANCO - MT   \n",
              "6                 PAINEL LED EMB QUAD 30X30 24W 6500K   \n",
              "7                PAINEL LED SOBR QUAD 30X30 24W 6500K   \n",
              "8                       CABO FLEXIVEL 2,5MM AZUL - MT   \n",
              "9                      CABO FLEXIVEL 2,5MM CINZA - MT   \n",
              "10      ARANDELA BOLT QUADRADA E-27 DIFUSOR VIDRO ESP   \n",
              "\n",
              "                                       Codigo_Produto Preço_Coleta  \\\n",
              "0   [Ref:, 108645, Marca:, COBRECOM, Modelo:, 1150...      R$ 2,09   \n",
              "1    [Ref:, 101405, Marca:, ENERBRAS, Modelo:, 070-E]      R$ 6,20   \n",
              "2   [Ref:, 100650, Marca:, ENERBRAS, Modelo:, 073-EB]      R$ 9,67   \n",
              "3   [Ref:, 104101, Marca:, BLUMENAU, Modelo:, 1094...    R$ 120,95   \n",
              "4   [Ref:, 100651, Marca:, ENERBRAS, Modelo:, 070-...      R$ 8,30   \n",
              "5   [Ref:, 95391, Marca:, COBRECOM, Modelo:, 11505...      R$ 2,16   \n",
              "6   [Ref:, 117922, Marca:, TASCHIBRA, Modelo:, 150...     R$ 38,61   \n",
              "7   [Ref:, 117923, Marca:, TASCHIBRA, Modelo:, 150...     R$ 43,11   \n",
              "8   [Ref:, 90006, Marca:, COBRECOM, Modelo:, 11505...      R$ 2,09   \n",
              "9   [Ref:, 108647, Marca:, COBRECOM, Modelo:, 1150...      R$ 2,09   \n",
              "10       [Ref:, 116430, Marca:, IDEAL, Modelo:, 5973]    R$ 100,71   \n",
              "\n",
              "                                           Url_Coleta           Data_coleta  \n",
              "0   https://www.marchio.com/cabo-flexivel-2-5mm-am...  15/12/2023, 02:17:20  \n",
              "1   https://www.marchio.com/adaptador-conversor-si...  15/12/2023, 02:17:21  \n",
              "2   https://www.marchio.com/adaptador-conversor-si...  15/12/2023, 02:17:22  \n",
              "3   https://www.marchio.com/arandela-colonial-sext...  15/12/2023, 02:17:23  \n",
              "4   https://www.marchio.com/adaptador-conversor-si...  15/12/2023, 02:17:24  \n",
              "5   https://www.marchio.com/cabo-flexivel-2-5mm-br...  15/12/2023, 02:17:25  \n",
              "6   https://www.marchio.com/painel-led-emb-quad-30...  15/12/2023, 02:17:26  \n",
              "7   https://www.marchio.com/painel-led-sobr-quad-3...  15/12/2023, 02:17:26  \n",
              "8   https://www.marchio.com/cabo-flexivel-2-5mm-az...  15/12/2023, 02:17:27  \n",
              "9   https://www.marchio.com/cabo-flexivel-2-5mm-ci...  15/12/2023, 02:17:28  \n",
              "10  https://www.marchio.com/arandela-bolt-quadrada...  15/12/2023, 02:17:29  "
            ],
            "text/html": [
              "\n",
              "  <div id=\"df-926e97f7-b0c8-4526-898b-9e1fd7db37d5\" class=\"colab-df-container\">\n",
              "    <div>\n",
              "<style scoped>\n",
              "    .dataframe tbody tr th:only-of-type {\n",
              "        vertical-align: middle;\n",
              "    }\n",
              "\n",
              "    .dataframe tbody tr th {\n",
              "        vertical-align: top;\n",
              "    }\n",
              "\n",
              "    .dataframe thead th {\n",
              "        text-align: right;\n",
              "    }\n",
              "</style>\n",
              "<table border=\"1\" class=\"dataframe\">\n",
              "  <thead>\n",
              "    <tr style=\"text-align: right;\">\n",
              "      <th></th>\n",
              "      <th>Nome_Produto</th>\n",
              "      <th>Codigo_Produto</th>\n",
              "      <th>Preço_Coleta</th>\n",
              "      <th>Url_Coleta</th>\n",
              "      <th>Data_coleta</th>\n",
              "    </tr>\n",
              "  </thead>\n",
              "  <tbody>\n",
              "    <tr>\n",
              "      <th>0</th>\n",
              "      <td>CABO FLEXIVEL 2,5MM AMARELO - MT</td>\n",
              "      <td>[Ref:, 108645, Marca:, COBRECOM, Modelo:, 1150...</td>\n",
              "      <td>R$ 2,09</td>\n",
              "      <td>https://www.marchio.com/cabo-flexivel-2-5mm-am...</td>\n",
              "      <td>15/12/2023, 02:17:20</td>\n",
              "    </tr>\n",
              "    <tr>\n",
              "      <th>1</th>\n",
              "      <td>ADAPTADOR CONVERSOR SISTEMA 2 POLOS+TERRA 10A ...</td>\n",
              "      <td>[Ref:, 101405, Marca:, ENERBRAS, Modelo:, 070-E]</td>\n",
              "      <td>R$ 6,20</td>\n",
              "      <td>https://www.marchio.com/adaptador-conversor-si...</td>\n",
              "      <td>15/12/2023, 02:17:21</td>\n",
              "    </tr>\n",
              "    <tr>\n",
              "      <th>2</th>\n",
              "      <td>ADAPTADOR CONVERSOR SISTEMAS 2P 10A BRANCO</td>\n",
              "      <td>[Ref:, 100650, Marca:, ENERBRAS, Modelo:, 073-EB]</td>\n",
              "      <td>R$ 9,67</td>\n",
              "      <td>https://www.marchio.com/adaptador-conversor-si...</td>\n",
              "      <td>15/12/2023, 02:17:22</td>\n",
              "    </tr>\n",
              "    <tr>\n",
              "      <th>3</th>\n",
              "      <td>Arandela colonial sextavada vidro liso preto 1...</td>\n",
              "      <td>[Ref:, 104101, Marca:, BLUMENAU, Modelo:, 1094...</td>\n",
              "      <td>R$ 120,95</td>\n",
              "      <td>https://www.marchio.com/arandela-colonial-sext...</td>\n",
              "      <td>15/12/2023, 02:17:23</td>\n",
              "    </tr>\n",
              "    <tr>\n",
              "      <th>4</th>\n",
              "      <td>ADAPTADOR CONVERSOR SISTEMAS 2P + TERRA 10A BR...</td>\n",
              "      <td>[Ref:, 100651, Marca:, ENERBRAS, Modelo:, 070-...</td>\n",
              "      <td>R$ 8,30</td>\n",
              "      <td>https://www.marchio.com/adaptador-conversor-si...</td>\n",
              "      <td>15/12/2023, 02:17:24</td>\n",
              "    </tr>\n",
              "    <tr>\n",
              "      <th>5</th>\n",
              "      <td>CABO FLEXIVEL 2,5MM BRANCO - MT</td>\n",
              "      <td>[Ref:, 95391, Marca:, COBRECOM, Modelo:, 11505...</td>\n",
              "      <td>R$ 2,16</td>\n",
              "      <td>https://www.marchio.com/cabo-flexivel-2-5mm-br...</td>\n",
              "      <td>15/12/2023, 02:17:25</td>\n",
              "    </tr>\n",
              "    <tr>\n",
              "      <th>6</th>\n",
              "      <td>PAINEL LED EMB QUAD 30X30 24W 6500K</td>\n",
              "      <td>[Ref:, 117922, Marca:, TASCHIBRA, Modelo:, 150...</td>\n",
              "      <td>R$ 38,61</td>\n",
              "      <td>https://www.marchio.com/painel-led-emb-quad-30...</td>\n",
              "      <td>15/12/2023, 02:17:26</td>\n",
              "    </tr>\n",
              "    <tr>\n",
              "      <th>7</th>\n",
              "      <td>PAINEL LED SOBR QUAD 30X30 24W 6500K</td>\n",
              "      <td>[Ref:, 117923, Marca:, TASCHIBRA, Modelo:, 150...</td>\n",
              "      <td>R$ 43,11</td>\n",
              "      <td>https://www.marchio.com/painel-led-sobr-quad-3...</td>\n",
              "      <td>15/12/2023, 02:17:26</td>\n",
              "    </tr>\n",
              "    <tr>\n",
              "      <th>8</th>\n",
              "      <td>CABO FLEXIVEL 2,5MM AZUL - MT</td>\n",
              "      <td>[Ref:, 90006, Marca:, COBRECOM, Modelo:, 11505...</td>\n",
              "      <td>R$ 2,09</td>\n",
              "      <td>https://www.marchio.com/cabo-flexivel-2-5mm-az...</td>\n",
              "      <td>15/12/2023, 02:17:27</td>\n",
              "    </tr>\n",
              "    <tr>\n",
              "      <th>9</th>\n",
              "      <td>CABO FLEXIVEL 2,5MM CINZA - MT</td>\n",
              "      <td>[Ref:, 108647, Marca:, COBRECOM, Modelo:, 1150...</td>\n",
              "      <td>R$ 2,09</td>\n",
              "      <td>https://www.marchio.com/cabo-flexivel-2-5mm-ci...</td>\n",
              "      <td>15/12/2023, 02:17:28</td>\n",
              "    </tr>\n",
              "    <tr>\n",
              "      <th>10</th>\n",
              "      <td>ARANDELA BOLT QUADRADA E-27 DIFUSOR VIDRO ESP</td>\n",
              "      <td>[Ref:, 116430, Marca:, IDEAL, Modelo:, 5973]</td>\n",
              "      <td>R$ 100,71</td>\n",
              "      <td>https://www.marchio.com/arandela-bolt-quadrada...</td>\n",
              "      <td>15/12/2023, 02:17:29</td>\n",
              "    </tr>\n",
              "  </tbody>\n",
              "</table>\n",
              "</div>\n",
              "    <div class=\"colab-df-buttons\">\n",
              "\n",
              "  <div class=\"colab-df-container\">\n",
              "    <button class=\"colab-df-convert\" onclick=\"convertToInteractive('df-926e97f7-b0c8-4526-898b-9e1fd7db37d5')\"\n",
              "            title=\"Convert this dataframe to an interactive table.\"\n",
              "            style=\"display:none;\">\n",
              "\n",
              "  <svg xmlns=\"http://www.w3.org/2000/svg\" height=\"24px\" viewBox=\"0 -960 960 960\">\n",
              "    <path d=\"M120-120v-720h720v720H120Zm60-500h600v-160H180v160Zm220 220h160v-160H400v160Zm0 220h160v-160H400v160ZM180-400h160v-160H180v160Zm440 0h160v-160H620v160ZM180-180h160v-160H180v160Zm440 0h160v-160H620v160Z\"/>\n",
              "  </svg>\n",
              "    </button>\n",
              "\n",
              "  <style>\n",
              "    .colab-df-container {\n",
              "      display:flex;\n",
              "      gap: 12px;\n",
              "    }\n",
              "\n",
              "    .colab-df-convert {\n",
              "      background-color: #E8F0FE;\n",
              "      border: none;\n",
              "      border-radius: 50%;\n",
              "      cursor: pointer;\n",
              "      display: none;\n",
              "      fill: #1967D2;\n",
              "      height: 32px;\n",
              "      padding: 0 0 0 0;\n",
              "      width: 32px;\n",
              "    }\n",
              "\n",
              "    .colab-df-convert:hover {\n",
              "      background-color: #E2EBFA;\n",
              "      box-shadow: 0px 1px 2px rgba(60, 64, 67, 0.3), 0px 1px 3px 1px rgba(60, 64, 67, 0.15);\n",
              "      fill: #174EA6;\n",
              "    }\n",
              "\n",
              "    .colab-df-buttons div {\n",
              "      margin-bottom: 4px;\n",
              "    }\n",
              "\n",
              "    [theme=dark] .colab-df-convert {\n",
              "      background-color: #3B4455;\n",
              "      fill: #D2E3FC;\n",
              "    }\n",
              "\n",
              "    [theme=dark] .colab-df-convert:hover {\n",
              "      background-color: #434B5C;\n",
              "      box-shadow: 0px 1px 3px 1px rgba(0, 0, 0, 0.15);\n",
              "      filter: drop-shadow(0px 1px 2px rgba(0, 0, 0, 0.3));\n",
              "      fill: #FFFFFF;\n",
              "    }\n",
              "  </style>\n",
              "\n",
              "    <script>\n",
              "      const buttonEl =\n",
              "        document.querySelector('#df-926e97f7-b0c8-4526-898b-9e1fd7db37d5 button.colab-df-convert');\n",
              "      buttonEl.style.display =\n",
              "        google.colab.kernel.accessAllowed ? 'block' : 'none';\n",
              "\n",
              "      async function convertToInteractive(key) {\n",
              "        const element = document.querySelector('#df-926e97f7-b0c8-4526-898b-9e1fd7db37d5');\n",
              "        const dataTable =\n",
              "          await google.colab.kernel.invokeFunction('convertToInteractive',\n",
              "                                                    [key], {});\n",
              "        if (!dataTable) return;\n",
              "\n",
              "        const docLinkHtml = 'Like what you see? Visit the ' +\n",
              "          '<a target=\"_blank\" href=https://colab.research.google.com/notebooks/data_table.ipynb>data table notebook</a>'\n",
              "          + ' to learn more about interactive tables.';\n",
              "        element.innerHTML = '';\n",
              "        dataTable['output_type'] = 'display_data';\n",
              "        await google.colab.output.renderOutput(dataTable, element);\n",
              "        const docLink = document.createElement('div');\n",
              "        docLink.innerHTML = docLinkHtml;\n",
              "        element.appendChild(docLink);\n",
              "      }\n",
              "    </script>\n",
              "  </div>\n",
              "\n",
              "\n",
              "<div id=\"df-e4e20b04-c38a-429d-830c-a9aa282b45f1\">\n",
              "  <button class=\"colab-df-quickchart\" onclick=\"quickchart('df-e4e20b04-c38a-429d-830c-a9aa282b45f1')\"\n",
              "            title=\"Suggest charts\"\n",
              "            style=\"display:none;\">\n",
              "\n",
              "<svg xmlns=\"http://www.w3.org/2000/svg\" height=\"24px\"viewBox=\"0 0 24 24\"\n",
              "     width=\"24px\">\n",
              "    <g>\n",
              "        <path d=\"M19 3H5c-1.1 0-2 .9-2 2v14c0 1.1.9 2 2 2h14c1.1 0 2-.9 2-2V5c0-1.1-.9-2-2-2zM9 17H7v-7h2v7zm4 0h-2V7h2v10zm4 0h-2v-4h2v4z\"/>\n",
              "    </g>\n",
              "</svg>\n",
              "  </button>\n",
              "\n",
              "<style>\n",
              "  .colab-df-quickchart {\n",
              "      --bg-color: #E8F0FE;\n",
              "      --fill-color: #1967D2;\n",
              "      --hover-bg-color: #E2EBFA;\n",
              "      --hover-fill-color: #174EA6;\n",
              "      --disabled-fill-color: #AAA;\n",
              "      --disabled-bg-color: #DDD;\n",
              "  }\n",
              "\n",
              "  [theme=dark] .colab-df-quickchart {\n",
              "      --bg-color: #3B4455;\n",
              "      --fill-color: #D2E3FC;\n",
              "      --hover-bg-color: #434B5C;\n",
              "      --hover-fill-color: #FFFFFF;\n",
              "      --disabled-bg-color: #3B4455;\n",
              "      --disabled-fill-color: #666;\n",
              "  }\n",
              "\n",
              "  .colab-df-quickchart {\n",
              "    background-color: var(--bg-color);\n",
              "    border: none;\n",
              "    border-radius: 50%;\n",
              "    cursor: pointer;\n",
              "    display: none;\n",
              "    fill: var(--fill-color);\n",
              "    height: 32px;\n",
              "    padding: 0;\n",
              "    width: 32px;\n",
              "  }\n",
              "\n",
              "  .colab-df-quickchart:hover {\n",
              "    background-color: var(--hover-bg-color);\n",
              "    box-shadow: 0 1px 2px rgba(60, 64, 67, 0.3), 0 1px 3px 1px rgba(60, 64, 67, 0.15);\n",
              "    fill: var(--button-hover-fill-color);\n",
              "  }\n",
              "\n",
              "  .colab-df-quickchart-complete:disabled,\n",
              "  .colab-df-quickchart-complete:disabled:hover {\n",
              "    background-color: var(--disabled-bg-color);\n",
              "    fill: var(--disabled-fill-color);\n",
              "    box-shadow: none;\n",
              "  }\n",
              "\n",
              "  .colab-df-spinner {\n",
              "    border: 2px solid var(--fill-color);\n",
              "    border-color: transparent;\n",
              "    border-bottom-color: var(--fill-color);\n",
              "    animation:\n",
              "      spin 1s steps(1) infinite;\n",
              "  }\n",
              "\n",
              "  @keyframes spin {\n",
              "    0% {\n",
              "      border-color: transparent;\n",
              "      border-bottom-color: var(--fill-color);\n",
              "      border-left-color: var(--fill-color);\n",
              "    }\n",
              "    20% {\n",
              "      border-color: transparent;\n",
              "      border-left-color: var(--fill-color);\n",
              "      border-top-color: var(--fill-color);\n",
              "    }\n",
              "    30% {\n",
              "      border-color: transparent;\n",
              "      border-left-color: var(--fill-color);\n",
              "      border-top-color: var(--fill-color);\n",
              "      border-right-color: var(--fill-color);\n",
              "    }\n",
              "    40% {\n",
              "      border-color: transparent;\n",
              "      border-right-color: var(--fill-color);\n",
              "      border-top-color: var(--fill-color);\n",
              "    }\n",
              "    60% {\n",
              "      border-color: transparent;\n",
              "      border-right-color: var(--fill-color);\n",
              "    }\n",
              "    80% {\n",
              "      border-color: transparent;\n",
              "      border-right-color: var(--fill-color);\n",
              "      border-bottom-color: var(--fill-color);\n",
              "    }\n",
              "    90% {\n",
              "      border-color: transparent;\n",
              "      border-bottom-color: var(--fill-color);\n",
              "    }\n",
              "  }\n",
              "</style>\n",
              "\n",
              "  <script>\n",
              "    async function quickchart(key) {\n",
              "      const quickchartButtonEl =\n",
              "        document.querySelector('#' + key + ' button');\n",
              "      quickchartButtonEl.disabled = true;  // To prevent multiple clicks.\n",
              "      quickchartButtonEl.classList.add('colab-df-spinner');\n",
              "      try {\n",
              "        const charts = await google.colab.kernel.invokeFunction(\n",
              "            'suggestCharts', [key], {});\n",
              "      } catch (error) {\n",
              "        console.error('Error during call to suggestCharts:', error);\n",
              "      }\n",
              "      quickchartButtonEl.classList.remove('colab-df-spinner');\n",
              "      quickchartButtonEl.classList.add('colab-df-quickchart-complete');\n",
              "    }\n",
              "    (() => {\n",
              "      let quickchartButtonEl =\n",
              "        document.querySelector('#df-e4e20b04-c38a-429d-830c-a9aa282b45f1 button');\n",
              "      quickchartButtonEl.style.display =\n",
              "        google.colab.kernel.accessAllowed ? 'block' : 'none';\n",
              "    })();\n",
              "  </script>\n",
              "</div>\n",
              "\n",
              "  <div id=\"id_5fbd93c1-525f-4cbc-9cb5-f04482a1dd3a\">\n",
              "    <style>\n",
              "      .colab-df-generate {\n",
              "        background-color: #E8F0FE;\n",
              "        border: none;\n",
              "        border-radius: 50%;\n",
              "        cursor: pointer;\n",
              "        display: none;\n",
              "        fill: #1967D2;\n",
              "        height: 32px;\n",
              "        padding: 0 0 0 0;\n",
              "        width: 32px;\n",
              "      }\n",
              "\n",
              "      .colab-df-generate:hover {\n",
              "        background-color: #E2EBFA;\n",
              "        box-shadow: 0px 1px 2px rgba(60, 64, 67, 0.3), 0px 1px 3px 1px rgba(60, 64, 67, 0.15);\n",
              "        fill: #174EA6;\n",
              "      }\n",
              "\n",
              "      [theme=dark] .colab-df-generate {\n",
              "        background-color: #3B4455;\n",
              "        fill: #D2E3FC;\n",
              "      }\n",
              "\n",
              "      [theme=dark] .colab-df-generate:hover {\n",
              "        background-color: #434B5C;\n",
              "        box-shadow: 0px 1px 3px 1px rgba(0, 0, 0, 0.15);\n",
              "        filter: drop-shadow(0px 1px 2px rgba(0, 0, 0, 0.3));\n",
              "        fill: #FFFFFF;\n",
              "      }\n",
              "    </style>\n",
              "    <button class=\"colab-df-generate\" onclick=\"generateWithVariable('df')\"\n",
              "            title=\"Generate code using this dataframe.\"\n",
              "            style=\"display:none;\">\n",
              "\n",
              "  <svg xmlns=\"http://www.w3.org/2000/svg\" height=\"24px\"viewBox=\"0 0 24 24\"\n",
              "       width=\"24px\">\n",
              "    <path d=\"M7,19H8.4L18.45,9,17,7.55,7,17.6ZM5,21V16.75L18.45,3.32a2,2,0,0,1,2.83,0l1.4,1.43a1.91,1.91,0,0,1,.58,1.4,1.91,1.91,0,0,1-.58,1.4L9.25,21ZM18.45,9,17,7.55Zm-12,3A5.31,5.31,0,0,0,4.9,8.1,5.31,5.31,0,0,0,1,6.5,5.31,5.31,0,0,0,4.9,4.9,5.31,5.31,0,0,0,6.5,1,5.31,5.31,0,0,0,8.1,4.9,5.31,5.31,0,0,0,12,6.5,5.46,5.46,0,0,0,6.5,12Z\"/>\n",
              "  </svg>\n",
              "    </button>\n",
              "    <script>\n",
              "      (() => {\n",
              "      const buttonEl =\n",
              "        document.querySelector('#id_5fbd93c1-525f-4cbc-9cb5-f04482a1dd3a button.colab-df-generate');\n",
              "      buttonEl.style.display =\n",
              "        google.colab.kernel.accessAllowed ? 'block' : 'none';\n",
              "\n",
              "      buttonEl.onclick = () => {\n",
              "        google.colab.notebook.generateWithVariable('df');\n",
              "      }\n",
              "      })();\n",
              "    </script>\n",
              "  </div>\n",
              "\n",
              "    </div>\n",
              "  </div>\n"
            ]
          },
          "metadata": {},
          "execution_count": 19
        }
      ]
    },
    {
      "cell_type": "code",
      "source": [
        "df[\"Preço_Coleta\"].describe()"
      ],
      "metadata": {
        "colab": {
          "base_uri": "https://localhost:8080/"
        },
        "id": "gWFj-ak1SzgA",
        "outputId": "a39ddb7f-ace8-47fd-c3ab-6ed184a903c8"
      },
      "id": "gWFj-ak1SzgA",
      "execution_count": null,
      "outputs": [
        {
          "output_type": "execute_result",
          "data": {
            "text/plain": [
              "count          11\n",
              "unique          9\n",
              "top       R$ 2,09\n",
              "freq            3\n",
              "Name: Preço_Coleta, dtype: object"
            ]
          },
          "metadata": {},
          "execution_count": 24
        }
      ]
    },
    {
      "cell_type": "code",
      "source": [
        "df[\"Preço_Coleta\"].max()"
      ],
      "metadata": {
        "colab": {
          "base_uri": "https://localhost:8080/",
          "height": 36
        },
        "id": "6eoO-ZmgS-XO",
        "outputId": "2771fe29-664d-43b6-9713-7c11a175c8de"
      },
      "id": "6eoO-ZmgS-XO",
      "execution_count": null,
      "outputs": [
        {
          "output_type": "execute_result",
          "data": {
            "text/plain": [
              "'R$ 9,67'"
            ],
            "application/vnd.google.colaboratory.intrinsic+json": {
              "type": "string"
            }
          },
          "metadata": {},
          "execution_count": 30
        }
      ]
    }
  ],
  "metadata": {
    "kernelspec": {
      "display_name": "Python 3 (ipykernel)",
      "language": "python",
      "name": "python3"
    },
    "language_info": {
      "codemirror_mode": {
        "name": "ipython",
        "version": 3
      },
      "file_extension": ".py",
      "mimetype": "text/x-python",
      "name": "python",
      "nbconvert_exporter": "python",
      "pygments_lexer": "ipython3",
      "version": "3.10.0"
    },
    "colab": {
      "provenance": []
    }
  },
  "nbformat": 4,
  "nbformat_minor": 5
}