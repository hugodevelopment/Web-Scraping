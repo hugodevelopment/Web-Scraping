{
  "cells": [
    {
      "cell_type": "code",
      "execution_count": 4,
      "id": "1ba62ef6",
      "metadata": {
        "id": "1ba62ef6"
      },
      "outputs": [],
      "source": [
        "from bs4 import BeautifulSoup\n",
        "import requests\n",
        "import pandas as pd"
      ]
    },
    {
      "cell_type": "code",
      "execution_count": 9,
      "id": "84bc42a4",
      "metadata": {
        "id": "84bc42a4"
      },
      "outputs": [],
      "source": [
        "# Testando com o link do site do desafio\n",
        "URL = \"https://www.marchio.com/iluminacao-e-eletrica\""
      ]
    },
    {
      "cell_type": "code",
      "source": [
        "# Link da amazon do tutorial\n",
        "URL2 = \"https://www.amazon.com/s?k=playstation+5&crid=3BV45YDFQQE2G&sprefix=playstation+4%2Caps%2C269&ref=nb_sb_noss_2\""
      ],
      "metadata": {
        "id": "IkriNisSOliv"
      },
      "id": "IkriNisSOliv",
      "execution_count": 80,
      "outputs": []
    },
    {
      "cell_type": "code",
      "execution_count": 10,
      "id": "41d06b5a",
      "metadata": {
        "id": "41d06b5a"
      },
      "outputs": [],
      "source": [
        "# Headers for request\n",
        "HEADERS = ({'User-Agent': 'Mozilla/5.0 (Windows NT 10.0; Win64; x64) AppleWebKit/537.36 (KHTML, like Gecko) Chrome/120.0.0.0 Safari/537.36', 'Accept-Language': 'pt-BR, pt;q=0.9'})\n"
      ]
    },
    {
      "cell_type": "code",
      "source": [
        "# agent to us\n",
        "HEADERS2 = ({'User-Agent':'', 'Accept-Language': 'en-US, en;q=0.5'})"
      ],
      "metadata": {
        "id": "yv1KB0F9SVdt"
      },
      "id": "yv1KB0F9SVdt",
      "execution_count": 81,
      "outputs": []
    },
    {
      "cell_type": "code",
      "execution_count": 11,
      "id": "942f42fc",
      "metadata": {
        "id": "942f42fc"
      },
      "outputs": [],
      "source": [
        "# HTTP Request\n",
        "webpage = requests.get(URL, headers=HEADERS)"
      ]
    },
    {
      "cell_type": "code",
      "source": [
        "# para testar o link\n",
        "webpage2 = requests.get(URL2, headers=HEADERS2)"
      ],
      "metadata": {
        "id": "oav7JyteOf-i"
      },
      "id": "oav7JyteOf-i",
      "execution_count": 82,
      "outputs": []
    },
    {
      "cell_type": "code",
      "execution_count": null,
      "id": "70d1d923",
      "metadata": {
        "colab": {
          "base_uri": "https://localhost:8080/"
        },
        "id": "70d1d923",
        "outputId": "e0b96219-7be4-4fb3-f899-86b2b642405b"
      },
      "outputs": [
        {
          "output_type": "execute_result",
          "data": {
            "text/plain": [
              "bytes"
            ]
          },
          "metadata": {},
          "execution_count": 159
        }
      ],
      "source": [
        "type(webpage.content)"
      ]
    },
    {
      "cell_type": "code",
      "execution_count": 12,
      "id": "d792ee49",
      "metadata": {
        "id": "d792ee49"
      },
      "outputs": [],
      "source": [
        "# Soup Object containiang all data\n",
        "soup = BeautifulSoup(webpage.content, \"html.parser\")"
      ]
    },
    {
      "cell_type": "code",
      "source": [
        "# essa é a classe mais importante por conter o link do que queremos na pagina dos produtos, nesse caso é o link dos desafios\n",
        "links1 = soup.find_all(\"a\", attrs={'class':'product-info'})\n",
        "links1"
      ],
      "metadata": {
        "colab": {
          "base_uri": "https://localhost:8080/"
        },
        "id": "06fX_mrqib2O",
        "outputId": "be9874aa-4ac1-4c9b-f92c-210f5ed08ce8"
      },
      "id": "06fX_mrqib2O",
      "execution_count": 88,
      "outputs": [
        {
          "output_type": "execute_result",
          "data": {
            "text/plain": [
              "[<a class=\"product-info\" href=\"https://www.marchio.com/cabo-flexivel-2-5mm-amarelo-mt\">\n",
              " <div class=\"product-info-dados\">\n",
              " <div class=\"product-name\">\n",
              "                     CABO FLEXIVEL 2,5MM AMARELO - MT\n",
              "                 </div>\n",
              " <div class=\"product-price\">\n",
              " <span class=\"product-has-variants text-center\">\n",
              " </span>\n",
              " <div class=\"price display-cash\">\n",
              " <span class=\"current-price\">\n",
              "         R$ 7,45\n",
              "     </span>\n",
              " <span class=\"product-installments\">\n",
              " <br/>\n",
              " <span class=\"txt-corparcelas\">\n",
              " <span class=\"txt-corparcelas\">\n",
              " <span class=\"preco-parc2\"> ou\n",
              "                                             <strong class=\"color\"> 12<span>x</span></strong>\n",
              " </span>\n",
              " </span>\n",
              " </span>\n",
              " <span class=\"preco-de\"> de </span>\n",
              " <span class=\"txt-cadaparcelas\">\n",
              " <strong class=\"preco-parc2\">R$\n",
              "                                         <span>\n",
              " <span>0<span>,<span>62</span></span></span>\n",
              " </span>\n",
              " </strong>\n",
              " </span>\n",
              " <span class=\"operadora\"> Sem juros </span>\n",
              " <!-- 12|0.62|{lower_price}|19 -->\n",
              " </span>\n",
              " </div>\n",
              " </div>\n",
              " </div>\n",
              " </a>,\n",
              " <a class=\"product-info\" href=\"https://www.marchio.com/adaptador-conversor-sistema-2-polos-terra-10a-cinz\">\n",
              " <div class=\"product-info-dados\">\n",
              " <div class=\"product-name\">\n",
              "                     ADAPTADOR CONVERSOR SISTEMA 2 POLOS+TERRA 10A CINZ\n",
              "                 </div>\n",
              " <div class=\"product-price\">\n",
              " <span class=\"product-has-variants text-center\">\n",
              " </span>\n",
              " <div class=\"price display-cash\">\n",
              " <span class=\"current-price\">\n",
              "         R$ 10,22\n",
              "     </span>\n",
              " <span class=\"product-installments\">\n",
              " <br/>\n",
              " <span class=\"txt-corparcelas\">\n",
              " <span class=\"txt-corparcelas\">\n",
              " <span class=\"preco-parc2\"> ou\n",
              "                                             <strong class=\"color\"> 12<span>x</span></strong>\n",
              " </span>\n",
              " </span>\n",
              " </span>\n",
              " <span class=\"preco-de\"> de </span>\n",
              " <span class=\"txt-cadaparcelas\">\n",
              " <strong class=\"preco-parc2\">R$\n",
              "                                         <span>\n",
              " <span>0<span>,<span>85</span></span></span>\n",
              " </span>\n",
              " </strong>\n",
              " </span>\n",
              " <span class=\"operadora\"> Sem juros </span>\n",
              " <!-- 12|0.85|{lower_price}|19 -->\n",
              " </span>\n",
              " </div>\n",
              " </div>\n",
              " </div>\n",
              " </a>,\n",
              " <a class=\"product-info\" href=\"https://www.marchio.com/adaptador-conversor-sistemas-2p-10a-branco\">\n",
              " <div class=\"product-info-dados\">\n",
              " <div class=\"product-name\">\n",
              "                     ADAPTADOR CONVERSOR SISTEMAS 2P 10A BRANCO\n",
              "                 </div>\n",
              " <div class=\"product-price\">\n",
              " <span class=\"product-has-variants text-center\">\n",
              " </span>\n",
              " <div class=\"price display-cash\">\n",
              " <span class=\"current-price\">\n",
              "         R$ 8,30\n",
              "     </span>\n",
              " <span class=\"product-installments\">\n",
              " <br/>\n",
              " <span class=\"txt-corparcelas\">\n",
              " <span class=\"txt-corparcelas\">\n",
              " <span class=\"preco-parc2\"> ou\n",
              "                                             <strong class=\"color\"> 12<span>x</span></strong>\n",
              " </span>\n",
              " </span>\n",
              " </span>\n",
              " <span class=\"preco-de\"> de </span>\n",
              " <span class=\"txt-cadaparcelas\">\n",
              " <strong class=\"preco-parc2\">R$\n",
              "                                         <span>\n",
              " <span>0<span>,<span>69</span></span></span>\n",
              " </span>\n",
              " </strong>\n",
              " </span>\n",
              " <span class=\"operadora\"> Sem juros </span>\n",
              " <!-- 12|0.69|{lower_price}|19 -->\n",
              " </span>\n",
              " </div>\n",
              " </div>\n",
              " </div>\n",
              " </a>,\n",
              " <a class=\"product-info\" href=\"https://www.marchio.com/arandela-colonial-sextavada-vidro-liso-preto-1-xe27\">\n",
              " <div class=\"product-info-dados\">\n",
              " <div class=\"product-name\">\n",
              "                     Arandela colonial sextavada vidro liso preto 1 xe27\n",
              "                 </div>\n",
              " <div class=\"product-price\">\n",
              " <span class=\"product-has-variants text-center\">\n",
              " </span>\n",
              " <div class=\"price display-cash\">\n",
              " <span class=\"current-price\">\n",
              "         R$ 100,71\n",
              "     </span>\n",
              " <span class=\"product-installments\">\n",
              " <br/>\n",
              " <span class=\"txt-corparcelas\">\n",
              " <span class=\"txt-corparcelas\">\n",
              " <span class=\"preco-parc2\"> ou\n",
              "                                             <strong class=\"color\"> 12<span>x</span></strong>\n",
              " </span>\n",
              " </span>\n",
              " </span>\n",
              " <span class=\"preco-de\"> de </span>\n",
              " <span class=\"txt-cadaparcelas\">\n",
              " <strong class=\"preco-parc2\">R$\n",
              "                                         <span>\n",
              " <span>8<span>,<span>39</span></span></span>\n",
              " </span>\n",
              " </strong>\n",
              " </span>\n",
              " <span class=\"operadora\"> Sem juros </span>\n",
              " <!-- 12|8.39|{lower_price}|19 -->\n",
              " </span>\n",
              " </div>\n",
              " </div>\n",
              " </div>\n",
              " </a>,\n",
              " <a class=\"product-info\" href=\"https://www.marchio.com/adaptador-conversor-sistemas-2p-terra-10a-branco\">\n",
              " <div class=\"product-info-dados\">\n",
              " <div class=\"product-name\">\n",
              "                     ADAPTADOR CONVERSOR SISTEMAS 2P + TERRA 10A BRANCO\n",
              "                 </div>\n",
              " <div class=\"product-price\">\n",
              " <span class=\"product-has-variants text-center\">\n",
              " </span>\n",
              " <div class=\"price display-cash\">\n",
              " <span class=\"current-price\">\n",
              "         R$ 9,67\n",
              "     </span>\n",
              " <span class=\"product-installments\">\n",
              " <br/>\n",
              " <span class=\"txt-corparcelas\">\n",
              " <span class=\"txt-corparcelas\">\n",
              " <span class=\"preco-parc2\"> ou\n",
              "                                             <strong class=\"color\"> 12<span>x</span></strong>\n",
              " </span>\n",
              " </span>\n",
              " </span>\n",
              " <span class=\"preco-de\"> de </span>\n",
              " <span class=\"txt-cadaparcelas\">\n",
              " <strong class=\"preco-parc2\">R$\n",
              "                                         <span>\n",
              " <span>0<span>,<span>81</span></span></span>\n",
              " </span>\n",
              " </strong>\n",
              " </span>\n",
              " <span class=\"operadora\"> Sem juros </span>\n",
              " <!-- 12|0.81|{lower_price}|19 -->\n",
              " </span>\n",
              " </div>\n",
              " </div>\n",
              " </div>\n",
              " </a>,\n",
              " <a class=\"product-info\" href=\"https://www.marchio.com/cabo-flexivel-2-5mm-branco-mt\">\n",
              " <div class=\"product-info-dados\">\n",
              " <div class=\"product-name\">\n",
              "                     CABO FLEXIVEL 2,5MM BRANCO - MT\n",
              "                 </div>\n",
              " <div class=\"product-price\">\n",
              " <span class=\"product-has-variants text-center\">\n",
              " </span>\n",
              " <div class=\"price display-cash\">\n",
              " <span class=\"current-price\">\n",
              "         R$ 2,16\n",
              "     </span>\n",
              " <span class=\"product-installments\">\n",
              " <br/>\n",
              " <span class=\"txt-corparcelas\">\n",
              " <span class=\"txt-corparcelas\">\n",
              " <span class=\"preco-parc2\"> ou\n",
              "                                             <strong class=\"color\"> 12<span>x</span></strong>\n",
              " </span>\n",
              " </span>\n",
              " </span>\n",
              " <span class=\"preco-de\"> de </span>\n",
              " <span class=\"txt-cadaparcelas\">\n",
              " <strong class=\"preco-parc2\">R$\n",
              "                                         <span>\n",
              " <span>0<span>,<span>18</span></span></span>\n",
              " </span>\n",
              " </strong>\n",
              " </span>\n",
              " <span class=\"operadora\"> Sem juros </span>\n",
              " <!-- 12|0.18|{lower_price}|19 -->\n",
              " </span>\n",
              " </div>\n",
              " </div>\n",
              " </div>\n",
              " </a>,\n",
              " <a class=\"product-info\" href=\"https://www.marchio.com/painel-led-emb-quad-30x30-24w-6500k\">\n",
              " <div class=\"product-info-dados\">\n",
              " <div class=\"product-name\">\n",
              "                     PAINEL LED EMB QUAD 30X30 24W 6500K\n",
              "                 </div>\n",
              " <div class=\"product-price\">\n",
              " <span class=\"product-has-variants text-center\">\n",
              " </span>\n",
              " <div class=\"price display-cash\">\n",
              " <span class=\"current-price\">\n",
              "         R$ 43,11\n",
              "     </span>\n",
              " <span class=\"product-installments\">\n",
              " <br/>\n",
              " <span class=\"txt-corparcelas\">\n",
              " <span class=\"txt-corparcelas\">\n",
              " <span class=\"preco-parc2\"> ou\n",
              "                                             <strong class=\"color\"> 12<span>x</span></strong>\n",
              " </span>\n",
              " </span>\n",
              " </span>\n",
              " <span class=\"preco-de\"> de </span>\n",
              " <span class=\"txt-cadaparcelas\">\n",
              " <strong class=\"preco-parc2\">R$\n",
              "                                         <span>\n",
              " <span>3<span>,<span>59</span></span></span>\n",
              " </span>\n",
              " </strong>\n",
              " </span>\n",
              " <span class=\"operadora\"> Sem juros </span>\n",
              " <!-- 12|3.59|{lower_price}|19 -->\n",
              " </span>\n",
              " </div>\n",
              " </div>\n",
              " </div>\n",
              " </a>,\n",
              " <a class=\"product-info\" href=\"https://www.marchio.com/painel-led-sobr-quad-30x30-24w-6500k\">\n",
              " <div class=\"product-info-dados\">\n",
              " <div class=\"product-name\">\n",
              "                     PAINEL LED SOBR QUAD 30X30 24W 6500K\n",
              "                 </div>\n",
              " <div class=\"product-price\">\n",
              " <span class=\"product-has-variants text-center\">\n",
              " </span>\n",
              " <div class=\"price display-cash\">\n",
              " <span class=\"current-price\">\n",
              "         R$ 38,61\n",
              "     </span>\n",
              " <span class=\"product-installments\">\n",
              " <br/>\n",
              " <span class=\"txt-corparcelas\">\n",
              " <span class=\"txt-corparcelas\">\n",
              " <span class=\"preco-parc2\"> ou\n",
              "                                             <strong class=\"color\"> 12<span>x</span></strong>\n",
              " </span>\n",
              " </span>\n",
              " </span>\n",
              " <span class=\"preco-de\"> de </span>\n",
              " <span class=\"txt-cadaparcelas\">\n",
              " <strong class=\"preco-parc2\">R$\n",
              "                                         <span>\n",
              " <span>3<span>,<span>22</span></span></span>\n",
              " </span>\n",
              " </strong>\n",
              " </span>\n",
              " <span class=\"operadora\"> Sem juros </span>\n",
              " <!-- 12|3.22|{lower_price}|19 -->\n",
              " </span>\n",
              " </div>\n",
              " </div>\n",
              " </div>\n",
              " </a>,\n",
              " <a class=\"product-info\" href=\"https://www.marchio.com/cabo-flexivel-2-5mm-azul-mt\">\n",
              " <div class=\"product-info-dados\">\n",
              " <div class=\"product-name\">\n",
              "                     CABO FLEXIVEL 2,5MM AZUL - MT\n",
              "                 </div>\n",
              " <div class=\"product-price\">\n",
              " <span class=\"product-has-variants text-center\">\n",
              " </span>\n",
              " <div class=\"price display-cash\">\n",
              " <span class=\"current-price\">\n",
              "         R$ 2,13\n",
              "     </span>\n",
              " <span class=\"product-installments\">\n",
              " <br/>\n",
              " <span class=\"txt-corparcelas\">\n",
              " <span class=\"txt-corparcelas\">\n",
              " <span class=\"preco-parc2\"> ou\n",
              "                                             <strong class=\"color\"> 12<span>x</span></strong>\n",
              " </span>\n",
              " </span>\n",
              " </span>\n",
              " <span class=\"preco-de\"> de </span>\n",
              " <span class=\"txt-cadaparcelas\">\n",
              " <strong class=\"preco-parc2\">R$\n",
              "                                         <span>\n",
              " <span>0<span>,<span>18</span></span></span>\n",
              " </span>\n",
              " </strong>\n",
              " </span>\n",
              " <span class=\"operadora\"> Sem juros </span>\n",
              " <!-- 12|0.18|{lower_price}|19 -->\n",
              " </span>\n",
              " </div>\n",
              " </div>\n",
              " </div>\n",
              " </a>,\n",
              " <a class=\"product-info\" href=\"https://www.marchio.com/cabo-flexivel-2-5mm-cinza-mt\">\n",
              " <div class=\"product-info-dados\">\n",
              " <div class=\"product-name\">\n",
              "                     CABO FLEXIVEL 2,5MM CINZA - MT\n",
              "                 </div>\n",
              " <div class=\"product-price\">\n",
              " <span class=\"product-has-variants text-center\">\n",
              " </span>\n",
              " <div class=\"price display-cash\">\n",
              " <span class=\"current-price\">\n",
              "         R$ 2,16\n",
              "     </span>\n",
              " <span class=\"product-installments\">\n",
              " <br/>\n",
              " <span class=\"txt-corparcelas\">\n",
              " <span class=\"txt-corparcelas\">\n",
              " <span class=\"preco-parc2\"> ou\n",
              "                                             <strong class=\"color\"> 12<span>x</span></strong>\n",
              " </span>\n",
              " </span>\n",
              " </span>\n",
              " <span class=\"preco-de\"> de </span>\n",
              " <span class=\"txt-cadaparcelas\">\n",
              " <strong class=\"preco-parc2\">R$\n",
              "                                         <span>\n",
              " <span>0<span>,<span>18</span></span></span>\n",
              " </span>\n",
              " </strong>\n",
              " </span>\n",
              " <span class=\"operadora\"> Sem juros </span>\n",
              " <!-- 12|0.18|{lower_price}|19 -->\n",
              " </span>\n",
              " </div>\n",
              " </div>\n",
              " </div>\n",
              " </a>,\n",
              " <a class=\"product-info\" href=\"https://www.marchio.com/arandela-bolt-quadrada-e-27-difusor-vidro-esp\">\n",
              " <div class=\"product-info-dados\">\n",
              " <div class=\"product-name\">\n",
              "                     ARANDELA BOLT QUADRADA E-27 DIFUSOR VIDRO ESP\n",
              "                 </div>\n",
              " <div class=\"product-price\">\n",
              " <span class=\"product-has-variants text-center\">\n",
              " </span>\n",
              " <div class=\"price display-cash\">\n",
              " <span class=\"current-price\">\n",
              "         R$ 173,79\n",
              "     </span>\n",
              " <span class=\"product-installments\">\n",
              " <br/>\n",
              " <span class=\"txt-corparcelas\">\n",
              " <span class=\"txt-corparcelas\">\n",
              " <span class=\"preco-parc2\"> ou\n",
              "                                             <strong class=\"color\"> 12<span>x</span></strong>\n",
              " </span>\n",
              " </span>\n",
              " </span>\n",
              " <span class=\"preco-de\"> de </span>\n",
              " <span class=\"txt-cadaparcelas\">\n",
              " <strong class=\"preco-parc2\">R$\n",
              "                                         <span>\n",
              " <span>14<span>,<span>48</span></span></span>\n",
              " </span>\n",
              " </strong>\n",
              " </span>\n",
              " <span class=\"operadora\"> Sem juros </span>\n",
              " <!-- 12|14.48|{lower_price}|19 -->\n",
              " </span>\n",
              " </div>\n",
              " </div>\n",
              " </div>\n",
              " </a>]"
            ]
          },
          "metadata": {},
          "execution_count": 88
        }
      ]
    },
    {
      "cell_type": "code",
      "source": [
        "# funcionou pegar o link de cada produto\n",
        "link_produtos = links1[2].get(\"href\")\n",
        "link_produtos"
      ],
      "metadata": {
        "colab": {
          "base_uri": "https://localhost:8080/",
          "height": 36
        },
        "id": "tlWJVEhlihiA",
        "outputId": "e755ebbf-7299-4d53-ca66-8360a09abcec"
      },
      "id": "tlWJVEhlihiA",
      "execution_count": 97,
      "outputs": [
        {
          "output_type": "execute_result",
          "data": {
            "text/plain": [
              "'https://www.marchio.com/adaptador-conversor-sistemas-2p-10a-branco'"
            ],
            "application/vnd.google.colaboratory.intrinsic+json": {
              "type": "string"
            }
          },
          "metadata": {},
          "execution_count": 97
        }
      ]
    },
    {
      "cell_type": "code",
      "source": [
        "# Soup Object containiang all data do tutorial\n",
        "soup2 = BeautifulSoup(webpage2.content, \"html.parser\")"
      ],
      "metadata": {
        "id": "1hOQ3SOyTC5s"
      },
      "id": "1hOQ3SOyTC5s",
      "execution_count": 83,
      "outputs": []
    },
    {
      "cell_type": "code",
      "source": [
        "# # com o link original pega tranquilo, nesse caso o da amazon\n",
        "# links2 = soup2.find_all(\"a\", attrs={'class':'a-link-normal s-underline-text s-underline-link-text s-link-style a-text-normal'})\n",
        "# links2"
      ],
      "metadata": {
        "id": "aYJoCzpEOUCH"
      },
      "id": "aYJoCzpEOUCH",
      "execution_count": 74,
      "outputs": []
    },
    {
      "cell_type": "code",
      "source": [
        "# Pegando o 1º link de referencia\n",
        "links2 = links2[1].get('href')\n",
        "links2"
      ],
      "metadata": {
        "id": "l1Opl1XVOWuY",
        "colab": {
          "base_uri": "https://localhost:8080/",
          "height": 36
        },
        "outputId": "3d20c12d-b658-4a3b-a006-f67322dc6795"
      },
      "id": "l1Opl1XVOWuY",
      "execution_count": 85,
      "outputs": [
        {
          "output_type": "execute_result",
          "data": {
            "text/plain": [
              "'/PlayStation%C2%AE5-Digital-slim-PlayStation-5/dp/B0CL5KNB9M/ref=sr_1_2?crid=3BV45YDFQQE2G&keywords=playstation+5&qid=1702566054&sprefix=playstation+4%2Caps%2C269&sr=8-2'"
            ],
            "application/vnd.google.colaboratory.intrinsic+json": {
              "type": "string"
            }
          },
          "metadata": {},
          "execution_count": 85
        }
      ]
    },
    {
      "cell_type": "code",
      "execution_count": 86,
      "id": "2ab5e21f",
      "metadata": {
        "id": "2ab5e21f"
      },
      "outputs": [],
      "source": [
        "# Concatenando o endereço da amazon com o endereço dos links da pagina\n",
        "product_list = \"https://amazon.com\" + links2"
      ]
    },
    {
      "cell_type": "code",
      "execution_count": 99,
      "id": "47af27fb",
      "metadata": {
        "id": "47af27fb"
      },
      "outputs": [],
      "source": [
        "# Nova url com o link da amazon + o link do produto\n",
        "new_webpage = requests.get(link_produtos, headers=HEADERS)"
      ]
    },
    {
      "cell_type": "code",
      "execution_count": 91,
      "id": "6b3cf798",
      "metadata": {
        "colab": {
          "base_uri": "https://localhost:8080/"
        },
        "id": "6b3cf798",
        "outputId": "6c1467ee-7c7e-46b4-a17c-3b4e7d4a6370"
      },
      "outputs": [
        {
          "output_type": "execute_result",
          "data": {
            "text/plain": [
              "<Response [200]>"
            ]
          },
          "metadata": {},
          "execution_count": 91
        }
      ],
      "source": [
        "new_webpage"
      ]
    },
    {
      "cell_type": "code",
      "execution_count": 100,
      "id": "43b0cb13",
      "metadata": {
        "id": "43b0cb13"
      },
      "outputs": [],
      "source": [
        "# Soup Object containiang all data\n",
        "new_soup = BeautifulSoup(new_webpage.content, \"html.parser\")"
      ]
    },
    {
      "cell_type": "code",
      "execution_count": 94,
      "id": "56a91145",
      "metadata": {
        "id": "56a91145"
      },
      "outputs": [],
      "source": [
        "# new_soup"
      ]
    },
    {
      "cell_type": "markdown",
      "source": [
        "**Agora que vem a parte que pegamos o que queremos**"
      ],
      "metadata": {
        "id": "CEaGdIzewMJE"
      },
      "id": "CEaGdIzewMJE"
    },
    {
      "cell_type": "code",
      "execution_count": 101,
      "id": "12c472d2",
      "metadata": {
        "colab": {
          "base_uri": "https://localhost:8080/",
          "height": 36
        },
        "id": "12c472d2",
        "outputId": "88afac3b-91f5-44a6-b6e2-5dca4b254538"
      },
      "outputs": [
        {
          "output_type": "execute_result",
          "data": {
            "text/plain": [
              "'ADAPTADOR CONVERSOR SISTEMAS 2P 10A BRANCO'"
            ],
            "application/vnd.google.colaboratory.intrinsic+json": {
              "type": "string"
            }
          },
          "metadata": {},
          "execution_count": 101
        }
      ],
      "source": [
        "# entendi como pegar, funcinou para o 1º produto\n",
        "new_soup.find(\"h1\", attrs={\"class\":'product-name'}).text.strip()"
      ]
    },
    {
      "cell_type": "code",
      "source": [
        "# entendi como pegar, testarei para o 2º produto\n",
        "new_soup.find(\"h1\", attrs={\"class\":'product-name'}).text.strip()"
      ],
      "metadata": {
        "colab": {
          "base_uri": "https://localhost:8080/",
          "height": 36
        },
        "id": "UArDlz3Rj4A2",
        "outputId": "d007efab-edd4-4ba8-8004-303dbbe1ebc0"
      },
      "id": "UArDlz3Rj4A2",
      "execution_count": 96,
      "outputs": [
        {
          "output_type": "execute_result",
          "data": {
            "text/plain": [
              "'ADAPTADOR CONVERSOR SISTEMA 2 POLOS+TERRA 10A CINZ'"
            ],
            "application/vnd.google.colaboratory.intrinsic+json": {
              "type": "string"
            }
          },
          "metadata": {},
          "execution_count": 96
        }
      ]
    },
    {
      "cell_type": "code",
      "execution_count": 90,
      "id": "9b7da0be",
      "metadata": {
        "colab": {
          "base_uri": "https://localhost:8080/",
          "height": 36
        },
        "id": "9b7da0be",
        "outputId": "60f42704-7c4f-4132-f185-d33d961b8ff5"
      },
      "outputs": [
        {
          "output_type": "execute_result",
          "data": {
            "text/plain": [
              "'$449.00'"
            ],
            "application/vnd.google.colaboratory.intrinsic+json": {
              "type": "string"
            }
          },
          "metadata": {},
          "execution_count": 90
        }
      ],
      "source": [
        "# entendi como pegar tbm\n",
        "new_soup.find(\"span\", attrs={\"class\":'a-price aok-align-center'}).find(\"span\", attrs={\"class\": \"a-offscreen\"}).text"
      ]
    },
    {
      "cell_type": "code",
      "execution_count": 91,
      "id": "a6ffef0a",
      "metadata": {
        "colab": {
          "base_uri": "https://localhost:8080/",
          "height": 36
        },
        "id": "a6ffef0a",
        "outputId": "3a972c08-d9ba-486a-87da-a9306e765fe7"
      },
      "outputs": [
        {
          "output_type": "execute_result",
          "data": {
            "text/plain": [
              "'4.3 out of 5 stars'"
            ],
            "application/vnd.google.colaboratory.intrinsic+json": {
              "type": "string"
            }
          },
          "metadata": {},
          "execution_count": 91
        }
      ],
      "source": [
        "# entendi como pegar\n",
        "new_soup.find(\"span\", attrs={\"class\":'a-icon-alt'}).text"
      ]
    },
    {
      "cell_type": "code",
      "execution_count": 92,
      "id": "29ac3c9f",
      "metadata": {
        "id": "29ac3c9f",
        "colab": {
          "base_uri": "https://localhost:8080/",
          "height": 36
        },
        "outputId": "390e81a0-0c8f-4bbb-bebc-97719614b479"
      },
      "outputs": [
        {
          "output_type": "execute_result",
          "data": {
            "text/plain": [
              "'  In Stock   '"
            ],
            "application/vnd.google.colaboratory.intrinsic+json": {
              "type": "string"
            }
          },
          "metadata": {},
          "execution_count": 92
        }
      ],
      "source": [
        "new_soup.find(\"div\", attrs={\"id\":'availability'}).text"
      ]
    },
    {
      "cell_type": "code",
      "source": [
        "new_soup.find(\"span\", attrs={\"class\":'a-size-large a-color-price savingPriceOverride aok-align-center reinventPriceSavingsPercentageMargin savingsPercentage'}).text"
      ],
      "metadata": {
        "colab": {
          "base_uri": "https://localhost:8080/",
          "height": 182
        },
        "id": "VXzH1Rh70_Jj",
        "outputId": "ddb6c0cb-3b61-4404-ce87-cdfcaf200b10"
      },
      "id": "VXzH1Rh70_Jj",
      "execution_count": 93,
      "outputs": [
        {
          "output_type": "error",
          "ename": "AttributeError",
          "evalue": "ignored",
          "traceback": [
            "\u001b[0;31m---------------------------------------------------------------------------\u001b[0m",
            "\u001b[0;31mAttributeError\u001b[0m                            Traceback (most recent call last)",
            "\u001b[0;32m<ipython-input-93-26e046d76ed4>\u001b[0m in \u001b[0;36m<cell line: 1>\u001b[0;34m()\u001b[0m\n\u001b[0;32m----> 1\u001b[0;31m \u001b[0mnew_soup\u001b[0m\u001b[0;34m.\u001b[0m\u001b[0mfind\u001b[0m\u001b[0;34m(\u001b[0m\u001b[0;34m\"span\"\u001b[0m\u001b[0;34m,\u001b[0m \u001b[0mattrs\u001b[0m\u001b[0;34m=\u001b[0m\u001b[0;34m{\u001b[0m\u001b[0;34m\"class\"\u001b[0m\u001b[0;34m:\u001b[0m\u001b[0;34m'a-size-large a-color-price savingPriceOverride aok-align-center reinventPriceSavingsPercentageMargin savingsPercentage'\u001b[0m\u001b[0;34m}\u001b[0m\u001b[0;34m)\u001b[0m\u001b[0;34m.\u001b[0m\u001b[0mtext\u001b[0m\u001b[0;34m\u001b[0m\u001b[0;34m\u001b[0m\u001b[0m\n\u001b[0m",
            "\u001b[0;31mAttributeError\u001b[0m: 'NoneType' object has no attribute 'text'"
          ]
        }
      ]
    },
    {
      "cell_type": "code",
      "source": [
        "new_soup.find(\"ul\", attrs={\"class\":'a-unordered-list a-vertical a-spacing-mini'}).text.strip()"
      ],
      "metadata": {
        "colab": {
          "base_uri": "https://localhost:8080/",
          "height": 55
        },
        "id": "A02W0CnN1dEw",
        "outputId": "36780ff7-ca2d-4ba9-f048-148c91c55843"
      },
      "id": "A02W0CnN1dEw",
      "execution_count": 94,
      "outputs": [
        {
          "output_type": "execute_result",
          "data": {
            "text/plain": [
              "'Model Number CFI-2000    Includes DualSense Wireless Controller, 1TB SSD, 2 Horizontal Stand Feet, HDMI Cable, AC power cord, USB cable, printed materials, ASTRO’s PLAYROOM (Pre-installed game)    Vertical Stand sold seperately'"
            ],
            "application/vnd.google.colaboratory.intrinsic+json": {
              "type": "string"
            }
          },
          "metadata": {},
          "execution_count": 94
        }
      ]
    },
    {
      "cell_type": "markdown",
      "source": [
        "**Funcionou legal e ainda consigamos fazer mais requisições**"
      ],
      "metadata": {
        "id": "jqi5nDcmatH4"
      },
      "id": "jqi5nDcmatH4"
    },
    {
      "cell_type": "code",
      "source": [],
      "metadata": {
        "id": "gtkBo12acfJR"
      },
      "id": "gtkBo12acfJR",
      "execution_count": null,
      "outputs": []
    }
  ],
  "metadata": {
    "kernelspec": {
      "display_name": "Python 3 (ipykernel)",
      "language": "python",
      "name": "python3"
    },
    "language_info": {
      "codemirror_mode": {
        "name": "ipython",
        "version": 3
      },
      "file_extension": ".py",
      "mimetype": "text/x-python",
      "name": "python",
      "nbconvert_exporter": "python",
      "pygments_lexer": "ipython3",
      "version": "3.10.0"
    },
    "colab": {
      "provenance": []
    }
  },
  "nbformat": 4,
  "nbformat_minor": 5
}