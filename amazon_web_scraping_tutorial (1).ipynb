{
  "cells": [
    {
      "cell_type": "code",
      "execution_count": 4,
      "id": "1ba62ef6",
      "metadata": {
        "id": "1ba62ef6"
      },
      "outputs": [],
      "source": [
        "from bs4 import BeautifulSoup\n",
        "import requests\n",
        "import pandas as pd"
      ]
    },
    {
      "cell_type": "code",
      "execution_count": 9,
      "id": "84bc42a4",
      "metadata": {
        "id": "84bc42a4"
      },
      "outputs": [],
      "source": [
        "# Testando com o link do site do desafio\n",
        "URL = \"https://www.marchio.com/iluminacao-e-eletrica\""
      ]
    },
    {
      "cell_type": "code",
      "source": [
        "# Link da amazon do tutorial\n",
        "URL2 = \"https://www.amazon.com/s?k=playstation+5&crid=3BV45YDFQQE2G&sprefix=playstation+4%2Caps%2C269&ref=nb_sb_noss_2\""
      ],
      "metadata": {
        "id": "IkriNisSOliv"
      },
      "id": "IkriNisSOliv",
      "execution_count": 80,
      "outputs": []
    },
    {
      "cell_type": "code",
      "execution_count": 10,
      "id": "41d06b5a",
      "metadata": {
        "id": "41d06b5a"
      },
      "outputs": [],
      "source": [
        "# Headers for request\n",
        "HEADERS = ({'User-Agent': 'Mozilla/5.0 (Windows NT 10.0; Win64; x64) AppleWebKit/537.36 (KHTML, like Gecko) Chrome/120.0.0.0 Safari/537.36', 'Accept-Language': 'pt-BR, pt;q=0.9'})\n"
      ]
    },
    {
      "cell_type": "code",
      "source": [
        "# agent to us\n",
        "HEADERS2 = ({'User-Agent':'', 'Accept-Language': 'en-US, en;q=0.5'})"
      ],
      "metadata": {
        "id": "yv1KB0F9SVdt"
      },
      "id": "yv1KB0F9SVdt",
      "execution_count": 81,
      "outputs": []
    },
    {
      "cell_type": "code",
      "execution_count": 11,
      "id": "942f42fc",
      "metadata": {
        "id": "942f42fc"
      },
      "outputs": [],
      "source": [
        "# HTTP Request\n",
        "webpage = requests.get(URL, headers=HEADERS)"
      ]
    },
    {
      "cell_type": "code",
      "source": [
        "# para testar o link\n",
        "webpage2 = requests.get(URL2, headers=HEADERS2)"
      ],
      "metadata": {
        "id": "oav7JyteOf-i"
      },
      "id": "oav7JyteOf-i",
      "execution_count": 82,
      "outputs": []
    },
    {
      "cell_type": "code",
      "source": [
        "# Soup Object containiang all data do tutorial\n",
        "soup2 = BeautifulSoup(webpage2.content, \"html.parser\")"
      ],
      "metadata": {
        "id": "TptPt8QMoIuK"
      },
      "id": "TptPt8QMoIuK",
      "execution_count": null,
      "outputs": []
    },
    {
      "cell_type": "code",
      "source": [
        "# # com o link original pega tranquilo, nesse caso o da amazon\n",
        "links2 = soup2.find_all(\"a\", attrs={'class':'a-link-normal s-underline-text s-underline-link-text s-link-style a-text-normal'})\n",
        "links2"
      ],
      "metadata": {
        "id": "t9VBPyfXoNAj"
      },
      "id": "t9VBPyfXoNAj",
      "execution_count": null,
      "outputs": []
    },
    {
      "cell_type": "code",
      "source": [
        "# Pegando o 1º link de referencia\n",
        "links2 = links2[1].get('href')\n",
        "links2"
      ],
      "metadata": {
        "id": "KrQWXj3doRtM"
      },
      "id": "KrQWXj3doRtM",
      "execution_count": null,
      "outputs": []
    },
    {
      "cell_type": "code",
      "source": [
        "# Concatenando o endereço da amazon com o endereço dos links da pagina\n",
        "product_list = \"https://amazon.com\" + links2"
      ],
      "metadata": {
        "id": "DW1X4QgVoT_l"
      },
      "id": "DW1X4QgVoT_l",
      "execution_count": null,
      "outputs": []
    },
    {
      "cell_type": "code",
      "execution_count": null,
      "id": "70d1d923",
      "metadata": {
        "colab": {
          "base_uri": "https://localhost:8080/"
        },
        "id": "70d1d923",
        "outputId": "e0b96219-7be4-4fb3-f899-86b2b642405b"
      },
      "outputs": [
        {
          "output_type": "execute_result",
          "data": {
            "text/plain": [
              "bytes"
            ]
          },
          "metadata": {},
          "execution_count": 159
        }
      ],
      "source": [
        "type(webpage.content)"
      ]
    },
    {
      "cell_type": "code",
      "execution_count": 12,
      "id": "d792ee49",
      "metadata": {
        "id": "d792ee49"
      },
      "outputs": [],
      "source": [
        "# Soup Object containiang all data\n",
        "soup = BeautifulSoup(webpage.content, \"html.parser\")"
      ]
    },
    {
      "cell_type": "code",
      "source": [
        "# Soup Object containiang all data\n",
        "new_soup = BeautifulSoup(new_webpage.content, \"html.parser\")"
      ],
      "metadata": {
        "id": "k15wePg2obzn"
      },
      "id": "k15wePg2obzn",
      "execution_count": null,
      "outputs": []
    },
    {
      "cell_type": "code",
      "source": [
        "new_soup.find(\"span\", attrs={\"id\":'productTitle'}).text.strip()"
      ],
      "metadata": {
        "id": "cNsldgm-olNW"
      },
      "id": "cNsldgm-olNW",
      "execution_count": null,
      "outputs": []
    },
    {
      "cell_type": "code",
      "source": [
        "# entendi como pegar tbm\n",
        "new_soup.find(\"span\", attrs={\"class\":'a-price aok-align-center'}).find(\"span\", attrs={\"class\": \"a-offscreen\"}).text"
      ],
      "metadata": {
        "id": "lbzMuHVQoqm0"
      },
      "id": "lbzMuHVQoqm0",
      "execution_count": null,
      "outputs": []
    },
    {
      "cell_type": "code",
      "source": [
        "# entendi como pegar\n",
        "new_soup.find(\"span\", attrs={\"class\":'a-icon-alt'}).text"
      ],
      "metadata": {
        "id": "ohcaGwh0otXi"
      },
      "id": "ohcaGwh0otXi",
      "execution_count": null,
      "outputs": []
    },
    {
      "cell_type": "code",
      "source": [
        "new_soup.find(\"div\", attrs={\"id\":'availability'}).text"
      ],
      "metadata": {
        "id": "cj6L2WLrovtO"
      },
      "id": "cj6L2WLrovtO",
      "execution_count": null,
      "outputs": []
    },
    {
      "cell_type": "code",
      "source": [
        "new_soup.find(\"span\", attrs={\"class\":'a-size-large a-color-price savingPriceOverride aok-align-center reinventPriceSavingsPercentageMargin savingsPercentage'}).text"
      ],
      "metadata": {
        "id": "yaPtTzC-oy2Q"
      },
      "id": "yaPtTzC-oy2Q",
      "execution_count": null,
      "outputs": []
    },
    {
      "cell_type": "code",
      "source": [
        "new_soup.find(\"ul\", attrs={\"class\":'a-unordered-list a-vertical a-spacing-mini'}).text.strip()"
      ],
      "metadata": {
        "id": "sLHidd3Uo4t_"
      },
      "id": "sLHidd3Uo4t_",
      "execution_count": null,
      "outputs": []
    },
    {
      "cell_type": "markdown",
      "source": [
        "# Testando com o link dos desafio"
      ],
      "metadata": {
        "id": "wCbmbrSlpEBo"
      },
      "id": "wCbmbrSlpEBo"
    },
    {
      "cell_type": "code",
      "source": [
        "# essa é a classe mais importante por conter o link do que queremos na pagina dos produtos, nesse caso é o link dos desafios\n",
        "links1 = soup.find_all(\"a\", attrs={'class':'product-info'})"
      ],
      "metadata": {
        "id": "06fX_mrqib2O"
      },
      "id": "06fX_mrqib2O",
      "execution_count": 123,
      "outputs": []
    },
    {
      "cell_type": "code",
      "source": [
        "# funcionou pegar o link de cada produto\n",
        "link_produtos = links1[2].get(\"href\")\n",
        "link_produtos"
      ],
      "metadata": {
        "id": "pX2ABZuLn_uS"
      },
      "id": "pX2ABZuLn_uS",
      "execution_count": null,
      "outputs": []
    },
    {
      "cell_type": "code",
      "execution_count": 99,
      "id": "47af27fb",
      "metadata": {
        "id": "47af27fb"
      },
      "outputs": [],
      "source": [
        "# Nova url com o link da amazon + o link do produto\n",
        "new_webpage = requests.get(link_produtos, headers=HEADERS)\n",
        "new_webpage"
      ]
    },
    {
      "cell_type": "code",
      "source": [
        "# Soup Object containiang all data\n",
        "produtos_soup = BeautifulSoup(new_webpage.content, \"html.parser\")"
      ],
      "metadata": {
        "id": "I_V8F5Ixn15t"
      },
      "id": "I_V8F5Ixn15t",
      "execution_count": null,
      "outputs": []
    },
    {
      "cell_type": "markdown",
      "source": [
        "**Agora testarei pegar as infos para o desafio**\n",
        "\n",
        "* Funcionou pegar o nome do diferentes produtos\n"
      ],
      "metadata": {
        "id": "cCubhnMgk2dt"
      },
      "id": "cCubhnMgk2dt"
    },
    {
      "cell_type": "code",
      "source": [
        "# entendi como pegar, funcinou para o 1º produto\n",
        "new_soup.find(\"h1\", attrs={\"class\":'product-name'}).text.strip()"
      ],
      "metadata": {
        "colab": {
          "base_uri": "https://localhost:8080/",
          "height": 36
        },
        "id": "593NE838k1NC",
        "outputId": "15d60283-7fb1-4d98-ed6e-69f0fc2b28c3"
      },
      "id": "593NE838k1NC",
      "execution_count": 102,
      "outputs": [
        {
          "output_type": "execute_result",
          "data": {
            "text/plain": [
              "'ADAPTADOR CONVERSOR SISTEMAS 2P 10A BRANCO'"
            ],
            "application/vnd.google.colaboratory.intrinsic+json": {
              "type": "string"
            }
          },
          "metadata": {},
          "execution_count": 102
        }
      ]
    },
    {
      "cell_type": "code",
      "source": [
        "# codigo do produto\n",
        "codigo_produto =new_soup.find(\"div\", attrs={\"class\":\"product-main-info\"}).text.strip().split()\n",
        "codigo_produto"
      ],
      "metadata": {
        "colab": {
          "base_uri": "https://localhost:8080/"
        },
        "id": "T_9T8q6NlDsh",
        "outputId": "1bf0de59-a486-461c-8bd4-aedd650616ea"
      },
      "id": "T_9T8q6NlDsh",
      "execution_count": 121,
      "outputs": [
        {
          "output_type": "execute_result",
          "data": {
            "text/plain": [
              "['Ref:', '100650', 'Marca:', 'ENERBRAS', 'Modelo:', '073-EB']"
            ]
          },
          "metadata": {},
          "execution_count": 121
        }
      ]
    },
    {
      "cell_type": "code",
      "source": [
        "# preco_coleta\n",
        "new_soup.find(\"span\", attrs={\"data-app\":\"product.price\"}).text.strip()"
      ],
      "metadata": {
        "colab": {
          "base_uri": "https://localhost:8080/",
          "height": 36
        },
        "id": "PhqzvpFNlpL8",
        "outputId": "7fcf0926-ed45-4895-e74a-a8f41dc8de91"
      },
      "id": "PhqzvpFNlpL8",
      "execution_count": 112,
      "outputs": [
        {
          "output_type": "execute_result",
          "data": {
            "text/plain": [
              "'8,30'"
            ],
            "application/vnd.google.colaboratory.intrinsic+json": {
              "type": "string"
            }
          },
          "metadata": {},
          "execution_count": 112
        }
      ]
    },
    {
      "cell_type": "code",
      "source": [
        "# url da coleta\n",
        "link_produtos = links1[2].get(\"href\")\n",
        "link_produtos"
      ],
      "metadata": {
        "colab": {
          "base_uri": "https://localhost:8080/",
          "height": 36
        },
        "id": "DttvjKccmg1K",
        "outputId": "8d14c497-a4c5-4a28-f528-8ba21b56065e"
      },
      "id": "DttvjKccmg1K",
      "execution_count": 115,
      "outputs": [
        {
          "output_type": "execute_result",
          "data": {
            "text/plain": [
              "'https://www.marchio.com/adaptador-conversor-sistemas-2p-10a-branco'"
            ],
            "application/vnd.google.colaboratory.intrinsic+json": {
              "type": "string"
            }
          },
          "metadata": {},
          "execution_count": 115
        }
      ]
    },
    {
      "cell_type": "code",
      "source": [
        "import datetime\n",
        "data_coleta = datetime.datetime.now()\n",
        "data_formatada = data_coleta.strftime(\"%d/%m/%Y, %H:%M:%S\")\n",
        "print(\"Hora da raspagem\",data_formatada)\n"
      ],
      "metadata": {
        "colab": {
          "base_uri": "https://localhost:8080/"
        },
        "id": "URx5jovimzuB",
        "outputId": "2a61f4dc-1dbe-4a49-f615-d7074dc049ab"
      },
      "id": "URx5jovimzuB",
      "execution_count": 125,
      "outputs": [
        {
          "output_type": "stream",
          "name": "stdout",
          "text": [
            "Hora da raspagem 14/12/2023, 18:54:39\n"
          ]
        }
      ]
    },
    {
      "cell_type": "code",
      "source": [
        "#  arquivo_do_preco = 'print_' + codigo_produto + '.png'"
      ],
      "metadata": {
        "colab": {
          "base_uri": "https://localhost:8080/",
          "height": 182
        },
        "id": "h2UJLCm3nLz7",
        "outputId": "ddd0f75a-9a5e-4a87-8e3e-c47a6a55d05f"
      },
      "id": "h2UJLCm3nLz7",
      "execution_count": 122,
      "outputs": [
        {
          "output_type": "error",
          "ename": "TypeError",
          "evalue": "ignored",
          "traceback": [
            "\u001b[0;31m---------------------------------------------------------------------------\u001b[0m",
            "\u001b[0;31mTypeError\u001b[0m                                 Traceback (most recent call last)",
            "\u001b[0;32m<ipython-input-122-2cd27742cc6d>\u001b[0m in \u001b[0;36m<cell line: 1>\u001b[0;34m()\u001b[0m\n\u001b[0;32m----> 1\u001b[0;31m \u001b[0marquivo_do_preco\u001b[0m \u001b[0;34m=\u001b[0m \u001b[0;34m'print_'\u001b[0m \u001b[0;34m+\u001b[0m \u001b[0mcodigo_produto\u001b[0m \u001b[0;34m+\u001b[0m \u001b[0;34m'.png'\u001b[0m\u001b[0;34m\u001b[0m\u001b[0;34m\u001b[0m\u001b[0m\n\u001b[0m",
            "\u001b[0;31mTypeError\u001b[0m: can only concatenate str (not \"list\") to str"
          ]
        }
      ]
    }
  ],
  "metadata": {
    "kernelspec": {
      "display_name": "Python 3 (ipykernel)",
      "language": "python",
      "name": "python3"
    },
    "language_info": {
      "codemirror_mode": {
        "name": "ipython",
        "version": 3
      },
      "file_extension": ".py",
      "mimetype": "text/x-python",
      "name": "python",
      "nbconvert_exporter": "python",
      "pygments_lexer": "ipython3",
      "version": "3.10.0"
    },
    "colab": {
      "provenance": []
    }
  },
  "nbformat": 4,
  "nbformat_minor": 5
}