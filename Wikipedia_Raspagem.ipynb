{
  "nbformat": 4,
  "nbformat_minor": 0,
  "metadata": {
    "colab": {
      "provenance": []
    },
    "kernelspec": {
      "name": "python3",
      "display_name": "Python 3"
    },
    "language_info": {
      "name": "python"
    }
  },
  "cells": [
    {
      "cell_type": "code",
      "source": [
        "import requests\n",
        "website_url = requests.get('https://en.wikipedia.org/wiki/List_of_Asian_countries_by_area').text"
      ],
      "metadata": {
        "id": "spam6uDztDSw"
      },
      "execution_count": 3,
      "outputs": []
    },
    {
      "cell_type": "code",
      "source": [
        "from bs4 import BeautifulSoup\n",
        "soup = BeautifulSoup(website_url,'lxml')"
      ],
      "metadata": {
        "id": "N9tVzV3AtGOA"
      },
      "execution_count": 4,
      "outputs": []
    },
    {
      "cell_type": "code",
      "source": [
        "My_table = soup.find('table',{'class':'wikitable sortable'})"
      ],
      "metadata": {
        "id": "bSGVCxVOtczf"
      },
      "execution_count": 7,
      "outputs": []
    },
    {
      "cell_type": "code",
      "source": [
        "links = My_table.findAll('a')\n",
        "links"
      ],
      "metadata": {
        "colab": {
          "base_uri": "https://localhost:8080/"
        },
        "id": "aPbBb-oNtO8X",
        "outputId": "50cd0e4b-e5cc-483a-95b8-17f209b03aef"
      },
      "execution_count": 8,
      "outputs": [
        {
          "output_type": "execute_result",
          "data": {
            "text/plain": [
              "[<a href=\"/wiki/Russia\" title=\"Russia\">Russia</a>,\n",
              " <a href=\"#cite_note-3\">[a]</a>,\n",
              " <a href=\"/wiki/China\" title=\"China\">China</a>,\n",
              " <a href=\"#cite_note-4\">[b]</a>,\n",
              " <a href=\"/wiki/India\" title=\"India\">India</a>,\n",
              " <a href=\"/wiki/Kazakhstan\" title=\"Kazakhstan\">Kazakhstan</a>,\n",
              " <a href=\"#cite_note-6\">[c]</a>,\n",
              " <a href=\"/wiki/Saudi_Arabia\" title=\"Saudi Arabia\">Saudi Arabia</a>,\n",
              " <a href=\"/wiki/Iran\" title=\"Iran\">Iran</a>,\n",
              " <a href=\"/wiki/Mongolia\" title=\"Mongolia\">Mongolia</a>,\n",
              " <a href=\"/wiki/Indonesia\" title=\"Indonesia\">Indonesia</a>,\n",
              " <a href=\"#cite_note-8\">[d]</a>,\n",
              " <a href=\"/wiki/Pakistan\" title=\"Pakistan\">Pakistan</a>,\n",
              " <a href=\"/wiki/Turkey\" title=\"Turkey\">Turkey</a>,\n",
              " <a href=\"#cite_note-10\">[e]</a>,\n",
              " <a href=\"/wiki/Myanmar\" title=\"Myanmar\">Myanmar</a>,\n",
              " <a href=\"/wiki/Afghanistan\" title=\"Afghanistan\">Afghanistan</a>,\n",
              " <a href=\"/wiki/Yemen\" title=\"Yemen\">Yemen</a>,\n",
              " <a href=\"/wiki/Thailand\" title=\"Thailand\">Thailand</a>,\n",
              " <a href=\"/wiki/Turkmenistan\" title=\"Turkmenistan\">Turkmenistan</a>,\n",
              " <a href=\"/wiki/Uzbekistan\" title=\"Uzbekistan\">Uzbekistan</a>,\n",
              " <a href=\"/wiki/Iraq\" title=\"Iraq\">Iraq</a>,\n",
              " <a href=\"/wiki/Japan\" title=\"Japan\">Japan</a>,\n",
              " <a href=\"/wiki/Vietnam\" title=\"Vietnam\">Vietnam</a>,\n",
              " <a href=\"/wiki/Malaysia\" title=\"Malaysia\">Malaysia</a>,\n",
              " <a href=\"/wiki/Oman\" title=\"Oman\">Oman</a>,\n",
              " <a href=\"/wiki/Philippines\" title=\"Philippines\">Philippines</a>,\n",
              " <a href=\"/wiki/Laos\" title=\"Laos\">Laos</a>,\n",
              " <a href=\"/wiki/Kyrgyzstan\" title=\"Kyrgyzstan\">Kyrgyzstan</a>,\n",
              " <a href=\"/wiki/Syria\" title=\"Syria\">Syria</a>,\n",
              " <a href=\"#cite_note-11\">[f]</a>,\n",
              " <a href=\"/wiki/Cambodia\" title=\"Cambodia\">Cambodia</a>,\n",
              " <a href=\"/wiki/Bangladesh\" title=\"Bangladesh\">Bangladesh</a>,\n",
              " <a href=\"/wiki/Nepal\" title=\"Nepal\">Nepal</a>,\n",
              " <a href=\"/wiki/Tajikistan\" title=\"Tajikistan\">Tajikistan</a>,\n",
              " <a href=\"/wiki/North_Korea\" title=\"North Korea\">North Korea</a>,\n",
              " <a href=\"/wiki/South_Korea\" title=\"South Korea\">South Korea</a>,\n",
              " <a href=\"/wiki/Jordan\" title=\"Jordan\">Jordan</a>,\n",
              " <a href=\"/wiki/United_Arab_Emirates\" title=\"United Arab Emirates\">United Arab Emirates</a>,\n",
              " <a href=\"/wiki/Azerbaijan\" title=\"Azerbaijan\">Azerbaijan</a>,\n",
              " <a href=\"#cite_note-13\">[g]</a>,\n",
              " <a href=\"/wiki/Georgia_(country)\" title=\"Georgia (country)\">Georgia</a>,\n",
              " <a href=\"#cite_note-14\">[h]</a>,\n",
              " <a href=\"/wiki/Sri_Lanka\" title=\"Sri Lanka\">Sri Lanka</a>,\n",
              " <a href=\"/wiki/Egypt\" title=\"Egypt\">Egypt</a>,\n",
              " <a href=\"#cite_note-16\">[i]</a>,\n",
              " <a href=\"/wiki/Bhutan\" title=\"Bhutan\">Bhutan</a>,\n",
              " <a href=\"/wiki/Taiwan\" title=\"Taiwan\">Taiwan</a>,\n",
              " <a href=\"#cite_note-17\">[j]</a>,\n",
              " <a href=\"/wiki/Armenia\" title=\"Armenia\">Armenia</a>,\n",
              " <a href=\"#cite_note-18\">[k]</a>,\n",
              " <a href=\"/wiki/Israel\" title=\"Israel\">Israel</a>,\n",
              " <a href=\"#cite_note-19\">[l]</a>,\n",
              " <a href=\"/wiki/Kuwait\" title=\"Kuwait\">Kuwait</a>,\n",
              " <a href=\"/wiki/East_Timor\" title=\"East Timor\">East Timor</a>,\n",
              " <a href=\"/wiki/Qatar\" title=\"Qatar\">Qatar</a>,\n",
              " <a href=\"/wiki/Lebanon\" title=\"Lebanon\">Lebanon</a>,\n",
              " <a href=\"/wiki/Cyprus\" title=\"Cyprus\">Cyprus</a>,\n",
              " <a href=\"#cite_note-20\">[m]</a>,\n",
              " <a href=\"/wiki/State_of_Palestine\" title=\"State of Palestine\">Palestine</a>,\n",
              " <a href=\"#cite_note-23\">[n]</a>,\n",
              " <a href=\"/wiki/Brunei\" title=\"Brunei\">Brunei</a>,\n",
              " <a href=\"/wiki/Hong_Kong\" title=\"Hong Kong\">Hong Kong</a>,\n",
              " <a href=\"/wiki/Bahrain\" title=\"Bahrain\">Bahrain</a>,\n",
              " <a href=\"/wiki/Singapore\" title=\"Singapore\">Singapore</a>,\n",
              " <a href=\"/wiki/Maldives\" title=\"Maldives\">Maldives</a>,\n",
              " <a href=\"#cite_note-24\">[o]</a>,\n",
              " <a href=\"/wiki/Macau\" title=\"Macau\">Macao</a>]"
            ]
          },
          "metadata": {},
          "execution_count": 8
        }
      ]
    },
    {
      "cell_type": "code",
      "source": [
        "Countries = []\n",
        "for link in links:\n",
        "    Countries.append(link.get('title'))\n",
        "\n",
        "print(Countries)"
      ],
      "metadata": {
        "colab": {
          "base_uri": "https://localhost:8080/"
        },
        "id": "P1zJqwnluSet",
        "outputId": "721d75fe-dc35-4025-8a03-33dfad58c7aa"
      },
      "execution_count": 11,
      "outputs": [
        {
          "output_type": "stream",
          "name": "stdout",
          "text": [
            "['Russia', None, 'China', None, 'India', 'Kazakhstan', None, 'Saudi Arabia', 'Iran', 'Mongolia', 'Indonesia', None, 'Pakistan', 'Turkey', None, 'Myanmar', 'Afghanistan', 'Yemen', 'Thailand', 'Turkmenistan', 'Uzbekistan', 'Iraq', 'Japan', 'Vietnam', 'Malaysia', 'Oman', 'Philippines', 'Laos', 'Kyrgyzstan', 'Syria', None, 'Cambodia', 'Bangladesh', 'Nepal', 'Tajikistan', 'North Korea', 'South Korea', 'Jordan', 'United Arab Emirates', 'Azerbaijan', None, 'Georgia (country)', None, 'Sri Lanka', 'Egypt', None, 'Bhutan', 'Taiwan', None, 'Armenia', None, 'Israel', None, 'Kuwait', 'East Timor', 'Qatar', 'Lebanon', 'Cyprus', None, 'State of Palestine', None, 'Brunei', 'Hong Kong', 'Bahrain', 'Singapore', 'Maldives', None, 'Macau']\n"
          ]
        }
      ]
    },
    {
      "cell_type": "code",
      "source": [
        "paises = []\n",
        "for pais in links:\n",
        "  paises.append(pais.get('title'))\n",
        "print(paises)\n",
        "\n"
      ],
      "metadata": {
        "colab": {
          "base_uri": "https://localhost:8080/"
        },
        "id": "UMHJsRdat6rP",
        "outputId": "69543e21-8c37-4f56-8ff9-e8925bdf0816"
      },
      "execution_count": 12,
      "outputs": [
        {
          "output_type": "stream",
          "name": "stdout",
          "text": [
            "['Russia', None, 'China', None, 'India', 'Kazakhstan', None, 'Saudi Arabia', 'Iran', 'Mongolia', 'Indonesia', None, 'Pakistan', 'Turkey', None, 'Myanmar', 'Afghanistan', 'Yemen', 'Thailand', 'Turkmenistan', 'Uzbekistan', 'Iraq', 'Japan', 'Vietnam', 'Malaysia', 'Oman', 'Philippines', 'Laos', 'Kyrgyzstan', 'Syria', None, 'Cambodia', 'Bangladesh', 'Nepal', 'Tajikistan', 'North Korea', 'South Korea', 'Jordan', 'United Arab Emirates', 'Azerbaijan', None, 'Georgia (country)', None, 'Sri Lanka', 'Egypt', None, 'Bhutan', 'Taiwan', None, 'Armenia', None, 'Israel', None, 'Kuwait', 'East Timor', 'Qatar', 'Lebanon', 'Cyprus', None, 'State of Palestine', None, 'Brunei', 'Hong Kong', 'Bahrain', 'Singapore', 'Maldives', None, 'Macau']\n"
          ]
        }
      ]
    }
  ]
}